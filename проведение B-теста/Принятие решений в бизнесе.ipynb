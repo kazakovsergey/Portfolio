{
 "cells": [
  {
   "cell_type": "markdown",
   "metadata": {},
   "source": [
    "# Приоритизация гипотез и проведение А/В теста\n",
    "В данном проекте мы проведем приоритизацию уже подготовленных гипотез, проведём А/В тест и проанлизируем его результаты.\n",
    "- Для этого мы применим фреймворки ICE и RICE для приоритизации гипотез и сравним результаты.\n",
    "- Построим кумулятивные графики выручки, среднего чека, среднего количества заказов на посетителя по группам. А также построим графики относительного изменения кумулятивного среднего чека и относительного изменения кумулятивного среднего количества заказов на посетителя группы В к группе А.\n",
    "- Затем посчитаем статистические значимости различий по \"сырым\" данным в среднем количестве заказов на посетителя и среднем чеке между группами.\n",
    "- И наконец посчитаем статистические значимости различий по \"ощищенным\" данным в среднем количестве заказов на посетителя и среднем чеке между группами, предаврительно найдя аномальных пользователей.\n",
    "- И в конце сделаем выводы о А/В тесте.\n",
    "\n",
    "Описание данных\n",
    "\n",
    "Данные для приоритизации:\n",
    "\n",
    "Файл /datasets/hypothesis.csv. Скачать датасет\n",
    "\n",
    "- Hypothesis — краткое описание гипотезы;\n",
    "- Reach — охват пользователей по 10-балльной шкале;\n",
    "- Impact — влияние на пользователей по 10-балльной шкале;\n",
    "- Confidence — уверенность в гипотезе по 10-балльной шкале;\n",
    "- Efforts — затраты ресурсов на проверку гипотезы по 10-балльной шкале. Чем больше значение Efforts, тем дороже проверка гипотезы.\n",
    "Данные для проведения А/В теста: \n",
    "\n",
    "Файл /datasets/orders.csv. Скачать датасет\n",
    "\n",
    "- transactionId — идентификатор заказа;\n",
    "- visitorId — идентификатор пользователя, совершившего заказ;\n",
    "- date — дата, когда был совершён заказ;\n",
    "- revenue — выручка заказа;\n",
    "- group — группа A/B-теста, в которую попал заказ.\n",
    "\n",
    "Файл /datasets/visitors.csv. Скачать датасет\n",
    "\n",
    "- date — дата;\n",
    "- group — группа A/B-теста;\n",
    "- visitors — количество пользователей в указанную дату в указанной группе A/B-теста\n"
   ]
  },
  {
   "cell_type": "markdown",
   "metadata": {},
   "source": [
    "## Приоритизация гипотез"
   ]
  },
  {
   "cell_type": "markdown",
   "metadata": {},
   "source": [
    "<div style=\"border:solid green 2px; padding: 20px\">\n",
    "Откроем файл, изучим общую информацию и приведем названия столбцов к нижнему регистру, а также зададим ширину столбцов по содержимому"
   ]
  },
  {
   "cell_type": "code",
   "execution_count": 2,
   "metadata": {},
   "outputs": [],
   "source": [
    "import pandas as pd\n",
    "import matplotlib.pyplot as plt\n",
    "import scipy.stats as stats\n",
    "import datetime as dt\n",
    "import numpy as np"
   ]
  },
  {
   "cell_type": "code",
   "execution_count": 3,
   "metadata": {},
   "outputs": [
    {
     "name": "stdout",
     "output_type": "stream",
     "text": [
      "<class 'pandas.core.frame.DataFrame'>\n",
      "RangeIndex: 9 entries, 0 to 8\n",
      "Data columns (total 5 columns):\n",
      " #   Column      Non-Null Count  Dtype \n",
      "---  ------      --------------  ----- \n",
      " 0   hypothesis  9 non-null      object\n",
      " 1   reach       9 non-null      int64 \n",
      " 2   impact      9 non-null      int64 \n",
      " 3   confidence  9 non-null      int64 \n",
      " 4   efforts     9 non-null      int64 \n",
      "dtypes: int64(4), object(1)\n",
      "memory usage: 488.0+ bytes\n"
     ]
    },
    {
     "data": {
      "text/html": [
       "<div>\n",
       "<style scoped>\n",
       "    .dataframe tbody tr th:only-of-type {\n",
       "        vertical-align: middle;\n",
       "    }\n",
       "\n",
       "    .dataframe tbody tr th {\n",
       "        vertical-align: top;\n",
       "    }\n",
       "\n",
       "    .dataframe thead th {\n",
       "        text-align: right;\n",
       "    }\n",
       "</style>\n",
       "<table border=\"1\" class=\"dataframe\">\n",
       "  <thead>\n",
       "    <tr style=\"text-align: right;\">\n",
       "      <th></th>\n",
       "      <th>hypothesis</th>\n",
       "      <th>reach</th>\n",
       "      <th>impact</th>\n",
       "      <th>confidence</th>\n",
       "      <th>efforts</th>\n",
       "    </tr>\n",
       "  </thead>\n",
       "  <tbody>\n",
       "    <tr>\n",
       "      <th>0</th>\n",
       "      <td>Добавить два новых канала привлечения трафика, что позволит привлекать на 30% больше пользователей</td>\n",
       "      <td>3</td>\n",
       "      <td>10</td>\n",
       "      <td>8</td>\n",
       "      <td>6</td>\n",
       "    </tr>\n",
       "    <tr>\n",
       "      <th>1</th>\n",
       "      <td>Запустить собственную службу доставки, что сократит срок доставки заказов</td>\n",
       "      <td>2</td>\n",
       "      <td>5</td>\n",
       "      <td>4</td>\n",
       "      <td>10</td>\n",
       "    </tr>\n",
       "    <tr>\n",
       "      <th>2</th>\n",
       "      <td>Добавить блоки рекомендаций товаров на сайт интернет магазина, чтобы повысить конверсию и средний чек заказа</td>\n",
       "      <td>8</td>\n",
       "      <td>3</td>\n",
       "      <td>7</td>\n",
       "      <td>3</td>\n",
       "    </tr>\n",
       "    <tr>\n",
       "      <th>3</th>\n",
       "      <td>Изменить структура категорий, что увеличит конверсию, т.к. пользователи быстрее найдут нужный товар</td>\n",
       "      <td>8</td>\n",
       "      <td>3</td>\n",
       "      <td>3</td>\n",
       "      <td>8</td>\n",
       "    </tr>\n",
       "    <tr>\n",
       "      <th>4</th>\n",
       "      <td>Изменить цвет фона главной страницы, чтобы увеличить вовлеченность пользователей</td>\n",
       "      <td>3</td>\n",
       "      <td>1</td>\n",
       "      <td>1</td>\n",
       "      <td>1</td>\n",
       "    </tr>\n",
       "    <tr>\n",
       "      <th>5</th>\n",
       "      <td>Добавить страницу отзывов клиентов о магазине, что позволит увеличить количество заказов</td>\n",
       "      <td>3</td>\n",
       "      <td>2</td>\n",
       "      <td>2</td>\n",
       "      <td>3</td>\n",
       "    </tr>\n",
       "    <tr>\n",
       "      <th>6</th>\n",
       "      <td>Показать на главной странице баннеры с актуальными акциями и распродажами, чтобы увеличить конверсию</td>\n",
       "      <td>5</td>\n",
       "      <td>3</td>\n",
       "      <td>8</td>\n",
       "      <td>3</td>\n",
       "    </tr>\n",
       "    <tr>\n",
       "      <th>7</th>\n",
       "      <td>Добавить форму подписки на все основные страницы, чтобы собрать базу клиентов для email-рассылок</td>\n",
       "      <td>10</td>\n",
       "      <td>7</td>\n",
       "      <td>8</td>\n",
       "      <td>5</td>\n",
       "    </tr>\n",
       "    <tr>\n",
       "      <th>8</th>\n",
       "      <td>Запустить акцию, дающую скидку на товар в день рождения</td>\n",
       "      <td>1</td>\n",
       "      <td>9</td>\n",
       "      <td>9</td>\n",
       "      <td>5</td>\n",
       "    </tr>\n",
       "  </tbody>\n",
       "</table>\n",
       "</div>"
      ],
      "text/plain": [
       "                                                                                                     hypothesis  reach  impact  confidence  efforts\n",
       "0            Добавить два новых канала привлечения трафика, что позволит привлекать на 30% больше пользователей      3      10           8        6\n",
       "1                                     Запустить собственную службу доставки, что сократит срок доставки заказов      2       5           4       10\n",
       "2  Добавить блоки рекомендаций товаров на сайт интернет магазина, чтобы повысить конверсию и средний чек заказа      8       3           7        3\n",
       "3           Изменить структура категорий, что увеличит конверсию, т.к. пользователи быстрее найдут нужный товар      8       3           3        8\n",
       "4                              Изменить цвет фона главной страницы, чтобы увеличить вовлеченность пользователей      3       1           1        1\n",
       "5                      Добавить страницу отзывов клиентов о магазине, что позволит увеличить количество заказов      3       2           2        3\n",
       "6          Показать на главной странице баннеры с актуальными акциями и распродажами, чтобы увеличить конверсию      5       3           8        3\n",
       "7              Добавить форму подписки на все основные страницы, чтобы собрать базу клиентов для email-рассылок     10       7           8        5\n",
       "8                                                       Запустить акцию, дающую скидку на товар в день рождения      1       9           9        5"
      ]
     },
     "execution_count": 3,
     "metadata": {},
     "output_type": "execute_result"
    }
   ],
   "source": [
    "data = pd.read_csv('../datasets/hypothesis.csv')\n",
    "data.columns = data.columns.str.lower()\n",
    "pd.set_option('max_colwidth', 120)\n",
    "pd.set_option('display.width', 500)\n",
    "data.info()\n",
    "data"
   ]
  },
  {
   "cell_type": "markdown",
   "metadata": {},
   "source": [
    "### Применим фреймворк ICE "
   ]
  },
  {
   "cell_type": "code",
   "execution_count": 4,
   "metadata": {},
   "outputs": [
    {
     "data": {
      "text/html": [
       "<div>\n",
       "<style scoped>\n",
       "    .dataframe tbody tr th:only-of-type {\n",
       "        vertical-align: middle;\n",
       "    }\n",
       "\n",
       "    .dataframe tbody tr th {\n",
       "        vertical-align: top;\n",
       "    }\n",
       "\n",
       "    .dataframe thead th {\n",
       "        text-align: right;\n",
       "    }\n",
       "</style>\n",
       "<table border=\"1\" class=\"dataframe\">\n",
       "  <thead>\n",
       "    <tr style=\"text-align: right;\">\n",
       "      <th></th>\n",
       "      <th>hypothesis</th>\n",
       "      <th>ICE</th>\n",
       "    </tr>\n",
       "  </thead>\n",
       "  <tbody>\n",
       "    <tr>\n",
       "      <th>8</th>\n",
       "      <td>Запустить акцию, дающую скидку на товар в день рождения</td>\n",
       "      <td>16.20</td>\n",
       "    </tr>\n",
       "    <tr>\n",
       "      <th>0</th>\n",
       "      <td>Добавить два новых канала привлечения трафика, что позволит привлекать на 30% больше пользователей</td>\n",
       "      <td>13.33</td>\n",
       "    </tr>\n",
       "    <tr>\n",
       "      <th>7</th>\n",
       "      <td>Добавить форму подписки на все основные страницы, чтобы собрать базу клиентов для email-рассылок</td>\n",
       "      <td>11.20</td>\n",
       "    </tr>\n",
       "    <tr>\n",
       "      <th>6</th>\n",
       "      <td>Показать на главной странице баннеры с актуальными акциями и распродажами, чтобы увеличить конверсию</td>\n",
       "      <td>8.00</td>\n",
       "    </tr>\n",
       "    <tr>\n",
       "      <th>2</th>\n",
       "      <td>Добавить блоки рекомендаций товаров на сайт интернет магазина, чтобы повысить конверсию и средний чек заказа</td>\n",
       "      <td>7.00</td>\n",
       "    </tr>\n",
       "    <tr>\n",
       "      <th>1</th>\n",
       "      <td>Запустить собственную службу доставки, что сократит срок доставки заказов</td>\n",
       "      <td>2.00</td>\n",
       "    </tr>\n",
       "    <tr>\n",
       "      <th>5</th>\n",
       "      <td>Добавить страницу отзывов клиентов о магазине, что позволит увеличить количество заказов</td>\n",
       "      <td>1.33</td>\n",
       "    </tr>\n",
       "    <tr>\n",
       "      <th>3</th>\n",
       "      <td>Изменить структура категорий, что увеличит конверсию, т.к. пользователи быстрее найдут нужный товар</td>\n",
       "      <td>1.12</td>\n",
       "    </tr>\n",
       "    <tr>\n",
       "      <th>4</th>\n",
       "      <td>Изменить цвет фона главной страницы, чтобы увеличить вовлеченность пользователей</td>\n",
       "      <td>1.00</td>\n",
       "    </tr>\n",
       "  </tbody>\n",
       "</table>\n",
       "</div>"
      ],
      "text/plain": [
       "                                                                                                     hypothesis    ICE\n",
       "8                                                       Запустить акцию, дающую скидку на товар в день рождения  16.20\n",
       "0            Добавить два новых канала привлечения трафика, что позволит привлекать на 30% больше пользователей  13.33\n",
       "7              Добавить форму подписки на все основные страницы, чтобы собрать базу клиентов для email-рассылок  11.20\n",
       "6          Показать на главной странице баннеры с актуальными акциями и распродажами, чтобы увеличить конверсию   8.00\n",
       "2  Добавить блоки рекомендаций товаров на сайт интернет магазина, чтобы повысить конверсию и средний чек заказа   7.00\n",
       "1                                     Запустить собственную службу доставки, что сократит срок доставки заказов   2.00\n",
       "5                      Добавить страницу отзывов клиентов о магазине, что позволит увеличить количество заказов   1.33\n",
       "3           Изменить структура категорий, что увеличит конверсию, т.к. пользователи быстрее найдут нужный товар   1.12\n",
       "4                              Изменить цвет фона главной страницы, чтобы увеличить вовлеченность пользователей   1.00"
      ]
     },
     "metadata": {},
     "output_type": "display_data"
    }
   ],
   "source": [
    "data['ICE'] = data['impact'] * data['confidence'] / data['efforts']\n",
    "data['ICE'] = round(data['ICE'], 2)\n",
    "display(data[['hypothesis', 'ICE']].sort_values(by='ICE', ascending=False))\n"
   ]
  },
  {
   "cell_type": "markdown",
   "metadata": {},
   "source": [
    "### Применим фреймворк RICE"
   ]
  },
  {
   "cell_type": "code",
   "execution_count": 5,
   "metadata": {},
   "outputs": [
    {
     "data": {
      "text/html": [
       "<div>\n",
       "<style scoped>\n",
       "    .dataframe tbody tr th:only-of-type {\n",
       "        vertical-align: middle;\n",
       "    }\n",
       "\n",
       "    .dataframe tbody tr th {\n",
       "        vertical-align: top;\n",
       "    }\n",
       "\n",
       "    .dataframe thead th {\n",
       "        text-align: right;\n",
       "    }\n",
       "</style>\n",
       "<table border=\"1\" class=\"dataframe\">\n",
       "  <thead>\n",
       "    <tr style=\"text-align: right;\">\n",
       "      <th></th>\n",
       "      <th>hypothesis</th>\n",
       "      <th>RICE</th>\n",
       "    </tr>\n",
       "  </thead>\n",
       "  <tbody>\n",
       "    <tr>\n",
       "      <th>7</th>\n",
       "      <td>Добавить форму подписки на все основные страницы, чтобы собрать базу клиентов для email-рассылок</td>\n",
       "      <td>112.0</td>\n",
       "    </tr>\n",
       "    <tr>\n",
       "      <th>2</th>\n",
       "      <td>Добавить блоки рекомендаций товаров на сайт интернет магазина, чтобы повысить конверсию и средний чек заказа</td>\n",
       "      <td>56.0</td>\n",
       "    </tr>\n",
       "    <tr>\n",
       "      <th>0</th>\n",
       "      <td>Добавить два новых канала привлечения трафика, что позволит привлекать на 30% больше пользователей</td>\n",
       "      <td>40.0</td>\n",
       "    </tr>\n",
       "    <tr>\n",
       "      <th>6</th>\n",
       "      <td>Показать на главной странице баннеры с актуальными акциями и распродажами, чтобы увеличить конверсию</td>\n",
       "      <td>40.0</td>\n",
       "    </tr>\n",
       "    <tr>\n",
       "      <th>8</th>\n",
       "      <td>Запустить акцию, дающую скидку на товар в день рождения</td>\n",
       "      <td>16.2</td>\n",
       "    </tr>\n",
       "    <tr>\n",
       "      <th>3</th>\n",
       "      <td>Изменить структура категорий, что увеличит конверсию, т.к. пользователи быстрее найдут нужный товар</td>\n",
       "      <td>9.0</td>\n",
       "    </tr>\n",
       "    <tr>\n",
       "      <th>1</th>\n",
       "      <td>Запустить собственную службу доставки, что сократит срок доставки заказов</td>\n",
       "      <td>4.0</td>\n",
       "    </tr>\n",
       "    <tr>\n",
       "      <th>5</th>\n",
       "      <td>Добавить страницу отзывов клиентов о магазине, что позволит увеличить количество заказов</td>\n",
       "      <td>4.0</td>\n",
       "    </tr>\n",
       "    <tr>\n",
       "      <th>4</th>\n",
       "      <td>Изменить цвет фона главной страницы, чтобы увеличить вовлеченность пользователей</td>\n",
       "      <td>3.0</td>\n",
       "    </tr>\n",
       "  </tbody>\n",
       "</table>\n",
       "</div>"
      ],
      "text/plain": [
       "                                                                                                     hypothesis   RICE\n",
       "7              Добавить форму подписки на все основные страницы, чтобы собрать базу клиентов для email-рассылок  112.0\n",
       "2  Добавить блоки рекомендаций товаров на сайт интернет магазина, чтобы повысить конверсию и средний чек заказа   56.0\n",
       "0            Добавить два новых канала привлечения трафика, что позволит привлекать на 30% больше пользователей   40.0\n",
       "6          Показать на главной странице баннеры с актуальными акциями и распродажами, чтобы увеличить конверсию   40.0\n",
       "8                                                       Запустить акцию, дающую скидку на товар в день рождения   16.2\n",
       "3           Изменить структура категорий, что увеличит конверсию, т.к. пользователи быстрее найдут нужный товар    9.0\n",
       "1                                     Запустить собственную службу доставки, что сократит срок доставки заказов    4.0\n",
       "5                      Добавить страницу отзывов клиентов о магазине, что позволит увеличить количество заказов    4.0\n",
       "4                              Изменить цвет фона главной страницы, чтобы увеличить вовлеченность пользователей    3.0"
      ]
     },
     "metadata": {},
     "output_type": "display_data"
    }
   ],
   "source": [
    "data['RICE'] = data['impact'] * data['confidence'] * data['reach'] / data['efforts']\n",
    "display(data[['hypothesis', 'RICE']].sort_values(by='RICE', ascending=False))"
   ]
  },
  {
   "cell_type": "markdown",
   "metadata": {},
   "source": [
    "### Выводы по приоритизации"
   ]
  },
  {
   "cell_type": "markdown",
   "metadata": {},
   "source": [
    "<div style=\"border:solid blue 2px; padding: 20px\">\n",
    "    При приотизиации методом ICE самой приоритетной оказазалась гипотеза 8, на втором и третьем местах 0 и 7 соответственно.\n",
    "    При приотизиации методом RICE самой приоритетной оказазалась гипотеза 7, на втором и третьем местах 2 и 0 соответственно.\n",
    "    Причем показатель RICE для 7 гипотезы в два раза выше, чем у 2. Приоритизация изменилась, в следствии учета в методе RICE охват пользователей, в отличии от ICE. Гипотеза 7 затронет намного больше пользователей, нежели 8."
   ]
  },
  {
   "cell_type": "markdown",
   "metadata": {},
   "source": [
    "## Анализ А/В теста"
   ]
  },
  {
   "cell_type": "markdown",
   "metadata": {},
   "source": [
    "<div style=\"border:solid green 2px; padding: 20px\">\n",
    "Откроем файл, изучим общую информацию и преобразуем типы данных в столбцах со временем и приведем название столбцов к змеиному регистру"
   ]
  },
  {
   "cell_type": "code",
   "execution_count": 6,
   "metadata": {},
   "outputs": [
    {
     "data": {
      "text/html": [
       "<div>\n",
       "<style scoped>\n",
       "    .dataframe tbody tr th:only-of-type {\n",
       "        vertical-align: middle;\n",
       "    }\n",
       "\n",
       "    .dataframe tbody tr th {\n",
       "        vertical-align: top;\n",
       "    }\n",
       "\n",
       "    .dataframe thead th {\n",
       "        text-align: right;\n",
       "    }\n",
       "</style>\n",
       "<table border=\"1\" class=\"dataframe\">\n",
       "  <thead>\n",
       "    <tr style=\"text-align: right;\">\n",
       "      <th></th>\n",
       "      <th>transaction_id</th>\n",
       "      <th>visitor_id</th>\n",
       "      <th>date</th>\n",
       "      <th>revenue</th>\n",
       "      <th>group</th>\n",
       "    </tr>\n",
       "  </thead>\n",
       "  <tbody>\n",
       "    <tr>\n",
       "      <th>0</th>\n",
       "      <td>3667963787</td>\n",
       "      <td>3312258926</td>\n",
       "      <td>2019-08-15</td>\n",
       "      <td>1650</td>\n",
       "      <td>B</td>\n",
       "    </tr>\n",
       "    <tr>\n",
       "      <th>1</th>\n",
       "      <td>2804400009</td>\n",
       "      <td>3642806036</td>\n",
       "      <td>2019-08-15</td>\n",
       "      <td>730</td>\n",
       "      <td>B</td>\n",
       "    </tr>\n",
       "    <tr>\n",
       "      <th>2</th>\n",
       "      <td>2961555356</td>\n",
       "      <td>4069496402</td>\n",
       "      <td>2019-08-15</td>\n",
       "      <td>400</td>\n",
       "      <td>A</td>\n",
       "    </tr>\n",
       "    <tr>\n",
       "      <th>3</th>\n",
       "      <td>3797467345</td>\n",
       "      <td>1196621759</td>\n",
       "      <td>2019-08-15</td>\n",
       "      <td>9759</td>\n",
       "      <td>B</td>\n",
       "    </tr>\n",
       "    <tr>\n",
       "      <th>4</th>\n",
       "      <td>2282983706</td>\n",
       "      <td>2322279887</td>\n",
       "      <td>2019-08-15</td>\n",
       "      <td>2308</td>\n",
       "      <td>B</td>\n",
       "    </tr>\n",
       "    <tr>\n",
       "      <th>...</th>\n",
       "      <td>...</td>\n",
       "      <td>...</td>\n",
       "      <td>...</td>\n",
       "      <td>...</td>\n",
       "      <td>...</td>\n",
       "    </tr>\n",
       "    <tr>\n",
       "      <th>1192</th>\n",
       "      <td>2662137336</td>\n",
       "      <td>3733762160</td>\n",
       "      <td>2019-08-14</td>\n",
       "      <td>6490</td>\n",
       "      <td>B</td>\n",
       "    </tr>\n",
       "    <tr>\n",
       "      <th>1193</th>\n",
       "      <td>2203539145</td>\n",
       "      <td>370388673</td>\n",
       "      <td>2019-08-14</td>\n",
       "      <td>3190</td>\n",
       "      <td>A</td>\n",
       "    </tr>\n",
       "    <tr>\n",
       "      <th>1194</th>\n",
       "      <td>1807773912</td>\n",
       "      <td>573423106</td>\n",
       "      <td>2019-08-14</td>\n",
       "      <td>10550</td>\n",
       "      <td>A</td>\n",
       "    </tr>\n",
       "    <tr>\n",
       "      <th>1195</th>\n",
       "      <td>1947021204</td>\n",
       "      <td>1614305549</td>\n",
       "      <td>2019-08-14</td>\n",
       "      <td>100</td>\n",
       "      <td>A</td>\n",
       "    </tr>\n",
       "    <tr>\n",
       "      <th>1196</th>\n",
       "      <td>3936777065</td>\n",
       "      <td>2108080724</td>\n",
       "      <td>2019-08-15</td>\n",
       "      <td>202740</td>\n",
       "      <td>B</td>\n",
       "    </tr>\n",
       "  </tbody>\n",
       "</table>\n",
       "<p>1197 rows × 5 columns</p>\n",
       "</div>"
      ],
      "text/plain": [
       "      transaction_id  visitor_id       date  revenue group\n",
       "0         3667963787  3312258926 2019-08-15     1650     B\n",
       "1         2804400009  3642806036 2019-08-15      730     B\n",
       "2         2961555356  4069496402 2019-08-15      400     A\n",
       "3         3797467345  1196621759 2019-08-15     9759     B\n",
       "4         2282983706  2322279887 2019-08-15     2308     B\n",
       "...              ...         ...        ...      ...   ...\n",
       "1192      2662137336  3733762160 2019-08-14     6490     B\n",
       "1193      2203539145   370388673 2019-08-14     3190     A\n",
       "1194      1807773912   573423106 2019-08-14    10550     A\n",
       "1195      1947021204  1614305549 2019-08-14      100     A\n",
       "1196      3936777065  2108080724 2019-08-15   202740     B\n",
       "\n",
       "[1197 rows x 5 columns]"
      ]
     },
     "metadata": {},
     "output_type": "display_data"
    },
    {
     "data": {
      "text/html": [
       "<div>\n",
       "<style scoped>\n",
       "    .dataframe tbody tr th:only-of-type {\n",
       "        vertical-align: middle;\n",
       "    }\n",
       "\n",
       "    .dataframe tbody tr th {\n",
       "        vertical-align: top;\n",
       "    }\n",
       "\n",
       "    .dataframe thead th {\n",
       "        text-align: right;\n",
       "    }\n",
       "</style>\n",
       "<table border=\"1\" class=\"dataframe\">\n",
       "  <thead>\n",
       "    <tr style=\"text-align: right;\">\n",
       "      <th></th>\n",
       "      <th>date</th>\n",
       "      <th>group</th>\n",
       "      <th>visitors</th>\n",
       "    </tr>\n",
       "  </thead>\n",
       "  <tbody>\n",
       "    <tr>\n",
       "      <th>0</th>\n",
       "      <td>2019-08-01</td>\n",
       "      <td>A</td>\n",
       "      <td>719</td>\n",
       "    </tr>\n",
       "    <tr>\n",
       "      <th>1</th>\n",
       "      <td>2019-08-02</td>\n",
       "      <td>A</td>\n",
       "      <td>619</td>\n",
       "    </tr>\n",
       "    <tr>\n",
       "      <th>2</th>\n",
       "      <td>2019-08-03</td>\n",
       "      <td>A</td>\n",
       "      <td>507</td>\n",
       "    </tr>\n",
       "    <tr>\n",
       "      <th>3</th>\n",
       "      <td>2019-08-04</td>\n",
       "      <td>A</td>\n",
       "      <td>717</td>\n",
       "    </tr>\n",
       "    <tr>\n",
       "      <th>4</th>\n",
       "      <td>2019-08-05</td>\n",
       "      <td>A</td>\n",
       "      <td>756</td>\n",
       "    </tr>\n",
       "    <tr>\n",
       "      <th>...</th>\n",
       "      <td>...</td>\n",
       "      <td>...</td>\n",
       "      <td>...</td>\n",
       "    </tr>\n",
       "    <tr>\n",
       "      <th>57</th>\n",
       "      <td>2019-08-27</td>\n",
       "      <td>B</td>\n",
       "      <td>720</td>\n",
       "    </tr>\n",
       "    <tr>\n",
       "      <th>58</th>\n",
       "      <td>2019-08-28</td>\n",
       "      <td>B</td>\n",
       "      <td>654</td>\n",
       "    </tr>\n",
       "    <tr>\n",
       "      <th>59</th>\n",
       "      <td>2019-08-29</td>\n",
       "      <td>B</td>\n",
       "      <td>531</td>\n",
       "    </tr>\n",
       "    <tr>\n",
       "      <th>60</th>\n",
       "      <td>2019-08-30</td>\n",
       "      <td>B</td>\n",
       "      <td>490</td>\n",
       "    </tr>\n",
       "    <tr>\n",
       "      <th>61</th>\n",
       "      <td>2019-08-31</td>\n",
       "      <td>B</td>\n",
       "      <td>718</td>\n",
       "    </tr>\n",
       "  </tbody>\n",
       "</table>\n",
       "<p>62 rows × 3 columns</p>\n",
       "</div>"
      ],
      "text/plain": [
       "         date group  visitors\n",
       "0  2019-08-01     A       719\n",
       "1  2019-08-02     A       619\n",
       "2  2019-08-03     A       507\n",
       "3  2019-08-04     A       717\n",
       "4  2019-08-05     A       756\n",
       "..        ...   ...       ...\n",
       "57 2019-08-27     B       720\n",
       "58 2019-08-28     B       654\n",
       "59 2019-08-29     B       531\n",
       "60 2019-08-30     B       490\n",
       "61 2019-08-31     B       718\n",
       "\n",
       "[62 rows x 3 columns]"
      ]
     },
     "metadata": {},
     "output_type": "display_data"
    },
    {
     "name": "stdout",
     "output_type": "stream",
     "text": [
      "<class 'pandas.core.frame.DataFrame'>\n",
      "RangeIndex: 1197 entries, 0 to 1196\n",
      "Data columns (total 5 columns):\n",
      " #   Column          Non-Null Count  Dtype         \n",
      "---  ------          --------------  -----         \n",
      " 0   transaction_id  1197 non-null   int64         \n",
      " 1   visitor_id      1197 non-null   int64         \n",
      " 2   date            1197 non-null   datetime64[ns]\n",
      " 3   revenue         1197 non-null   int64         \n",
      " 4   group           1197 non-null   object        \n",
      "dtypes: datetime64[ns](1), int64(3), object(1)\n",
      "memory usage: 46.9+ KB\n",
      "<class 'pandas.core.frame.DataFrame'>\n",
      "RangeIndex: 62 entries, 0 to 61\n",
      "Data columns (total 3 columns):\n",
      " #   Column    Non-Null Count  Dtype         \n",
      "---  ------    --------------  -----         \n",
      " 0   date      62 non-null     datetime64[ns]\n",
      " 1   group     62 non-null     object        \n",
      " 2   visitors  62 non-null     int64         \n",
      "dtypes: datetime64[ns](1), int64(1), object(1)\n",
      "memory usage: 1.6+ KB\n"
     ]
    },
    {
     "data": {
      "text/plain": [
       "array(['B', 'A'], dtype=object)"
      ]
     },
     "metadata": {},
     "output_type": "display_data"
    },
    {
     "data": {
      "text/plain": [
       "'дата начала теста:'"
      ]
     },
     "metadata": {},
     "output_type": "display_data"
    },
    {
     "data": {
      "text/plain": [
       "Timestamp('2019-08-01 00:00:00')"
      ]
     },
     "metadata": {},
     "output_type": "display_data"
    },
    {
     "data": {
      "text/plain": [
       "'дата конца теста:'"
      ]
     },
     "metadata": {},
     "output_type": "display_data"
    },
    {
     "data": {
      "text/plain": [
       "Timestamp('2019-08-31 00:00:00')"
      ]
     },
     "metadata": {},
     "output_type": "display_data"
    },
    {
     "data": {
      "text/html": [
       "<div>\n",
       "<style scoped>\n",
       "    .dataframe tbody tr th:only-of-type {\n",
       "        vertical-align: middle;\n",
       "    }\n",
       "\n",
       "    .dataframe tbody tr th {\n",
       "        vertical-align: top;\n",
       "    }\n",
       "\n",
       "    .dataframe thead th {\n",
       "        text-align: right;\n",
       "    }\n",
       "</style>\n",
       "<table border=\"1\" class=\"dataframe\">\n",
       "  <thead>\n",
       "    <tr style=\"text-align: right;\">\n",
       "      <th></th>\n",
       "      <th>visitor_id</th>\n",
       "    </tr>\n",
       "    <tr>\n",
       "      <th>group</th>\n",
       "      <th></th>\n",
       "    </tr>\n",
       "  </thead>\n",
       "  <tbody>\n",
       "    <tr>\n",
       "      <th>A</th>\n",
       "      <td>503</td>\n",
       "    </tr>\n",
       "    <tr>\n",
       "      <th>B</th>\n",
       "      <td>586</td>\n",
       "    </tr>\n",
       "  </tbody>\n",
       "</table>\n",
       "</div>"
      ],
      "text/plain": [
       "       visitor_id\n",
       "group            \n",
       "A             503\n",
       "B             586"
      ]
     },
     "metadata": {},
     "output_type": "display_data"
    },
    {
     "data": {
      "text/plain": [
       "'Количество пользователей, которые присутствуют в обеих группах:'"
      ]
     },
     "metadata": {},
     "output_type": "display_data"
    },
    {
     "data": {
      "text/plain": [
       "58"
      ]
     },
     "metadata": {},
     "output_type": "display_data"
    },
    {
     "data": {
      "text/plain": [
       "'Количество дубликатов в orders:'"
      ]
     },
     "metadata": {},
     "output_type": "display_data"
    },
    {
     "data": {
      "text/plain": [
       "0"
      ]
     },
     "metadata": {},
     "output_type": "display_data"
    },
    {
     "data": {
      "text/plain": [
       "'Количество дубликатов в visitors:'"
      ]
     },
     "metadata": {},
     "output_type": "display_data"
    },
    {
     "data": {
      "text/plain": [
       "0"
      ]
     },
     "metadata": {},
     "output_type": "display_data"
    }
   ],
   "source": [
    "orders = pd.read_csv('../datasets/orders.csv')\n",
    "orders['date'] = orders['date'].map(\n",
    "    lambda x: dt.datetime.strptime(x, '%Y-%m-%d')\n",
    ")\n",
    "visitors = pd.read_csv('../datasets/visitors.csv')\n",
    "visitors['date'] = visitors['date'].map(\n",
    "    lambda x: dt.datetime.strptime(x, '%Y-%m-%d')\n",
    ")\n",
    "orders.rename(columns={'transactionId' : 'transaction_id', 'visitorId' : 'visitor_id'}, inplace=True)\n",
    "display(orders)\n",
    "display(visitors)\n",
    "orders.info()\n",
    "visitors.info()\n",
    "display(orders['group'].unique())\n",
    "display('дата начала теста:', orders['date'].min())\n",
    "display('дата конца теста:', orders['date'].max())\n",
    "display(orders.groupby('group').agg({'visitor_id' : 'nunique'}))\n",
    "orders_A = orders[orders['group'] == 'A']['visitor_id'].drop_duplicates()\n",
    "orders_B = orders[orders['group'] == 'B']['visitor_id'].drop_duplicates()\n",
    "duplicates_users = np.intersect1d(orders_A, orders_B)\n",
    "display('Количество пользователей, которые присутствуют в обеих группах:', len(duplicates_users))\n",
    "display('Количество дубликатов в orders:', orders.duplicated().sum())\n",
    "display('Количество дубликатов в visitors:', visitors.duplicated().sum())\n"
   ]
  },
  {
   "cell_type": "markdown",
   "metadata": {},
   "source": [
    "### Построим график кумулятивной выручки по группам"
   ]
  },
  {
   "cell_type": "code",
   "execution_count": 23,
   "metadata": {},
   "outputs": [
    {
     "data": {
      "image/png": "[encoded data removed]",
      "text/plain": [
       "<Figure size 1200x800 with 1 Axes>"
      ]
     },
     "metadata": {},
     "output_type": "display_data"
    }
   ],
   "source": [
    "daily_orders_A = orders[orders['group'] == 'A'][['date', 'transaction_id', 'revenue']].groupby('date', as_index=False).agg({'transaction_id' : 'nunique', 'revenue' : 'sum'})\n",
    "daily_orders_B = orders[orders['group'] == 'B'][['date', 'transaction_id', 'revenue']].groupby('date', as_index=False).agg({'transaction_id' : 'nunique', 'revenue' : 'sum'})\n",
    "cumulitiv_orders_A = daily_orders_A.apply(lambda x: daily_orders_A[daily_orders_A['date'] <= x['date']].agg({'date' : 'max', 'transaction_id' : 'sum', 'revenue' : 'sum'}), axis=1).sort_values(by='date')\n",
    "cumulitiv_orders_A.columns = ['date', 'orders', 'revenue']\n",
    "cumulitiv_orders_B = daily_orders_B.apply(lambda x: daily_orders_B[daily_orders_B['date'] <= x['date']].agg({'date' : 'max', 'transaction_id' : 'sum', 'revenue' : 'sum'}), axis=1).sort_values(by='date')\n",
    "cumulitiv_orders_B.columns = ['date', 'orders', 'revenue']\n",
    "plt.figure(figsize=(12, 8))\n",
    "plt.title('График кумулятивной выручки по группам')\n",
    "plt.xlabel(\"Дата\")\n",
    "plt.ylabel(\"Кумулятивная выручка\")\n",
    "plt.plot(cumulitiv_orders_A['date'], cumulitiv_orders_A['revenue'], label='A')\n",
    "plt.plot(cumulitiv_orders_B['date'], cumulitiv_orders_B['revenue'], label='B')\n",
    "plt.legend();"
   ]
  },
  {
   "cell_type": "markdown",
   "metadata": {},
   "source": [
    "<div style=\"border:solid blue 2px; padding: 20px\">\n",
    "    Судя по кумулятивным графиками выручки по группам, можно предположить что в группе В выручка стабильно больше, чем в группе А. Также виден скачок выручки в группе В, что говорит о возможно аномально высокой выручке или аномального числа заказов в эти даты."
   ]
  },
  {
   "cell_type": "markdown",
   "metadata": {},
   "source": [
    "### Построим график кумулятивного среднего чека по группам"
   ]
  },
  {
   "cell_type": "code",
   "execution_count": 8,
   "metadata": {},
   "outputs": [
    {
     "data": {
      "image/png": "[encoded data removed]",
      "text/plain": [
       "<Figure size 1200x800 with 1 Axes>"
      ]
     },
     "metadata": {},
     "output_type": "display_data"
    }
   ],
   "source": [
    "plt.figure(figsize=(12, 8))\n",
    "plt.title('График кумулятивного среднего чека по группам')\n",
    "plt.xlabel(\"Дата\")\n",
    "plt.ylabel(\"кумулятивный средний чек\")\n",
    "plt.plot(cumulitiv_orders_A['date'], cumulitiv_orders_A['revenue'] / cumulitiv_orders_A['orders'], label='A')\n",
    "plt.plot(cumulitiv_orders_B['date'], cumulitiv_orders_B['revenue'] / cumulitiv_orders_B['orders'], label='B')\n",
    "plt.legend();"
   ]
  },
  {
   "cell_type": "markdown",
   "metadata": {},
   "source": [
    "<div style=\"border:solid blue 2px; padding: 20px\">\n",
    "    По графикам кумулятивного среднего чека по группам видно, что средний чек в группе В выше, чем в группе А. Правда не на протяжении всего время теста. А ещё резкий скачок среднего чего в группу В подтверждает предположение об аномально высокой выручке. Видимо в эти данные был один или несколько аномально дорогих заказов"
   ]
  },
  {
   "cell_type": "markdown",
   "metadata": {},
   "source": [
    "### Построим график относительного изменения кумулятивного среднего чека группы В к группе А"
   ]
  },
  {
   "cell_type": "code",
   "execution_count": 9,
   "metadata": {},
   "outputs": [
    {
     "data": {
      "image/png": "[encoded data removed]",
      "text/plain": [
       "<Figure size 1200x1000 with 1 Axes>"
      ]
     },
     "metadata": {},
     "output_type": "display_data"
    }
   ],
   "source": [
    "merged_cumulitiv_orders = cumulitiv_orders_A.merge(cumulitiv_orders_B, on='date', how='left', suffixes=['A', 'B'])\n",
    "plt.figure(figsize=(12, 10))\n",
    "plt.title('График отностельного изменения кумулятивного среднего чека группы В к группе А')\n",
    "plt.xlabel(\"Дата\")\n",
    "plt.ylabel(\"Относительное изменение кумулятивного среднего чека группы В к грппе А\")\n",
    "plt.plot(merged_cumulitiv_orders['date'], (merged_cumulitiv_orders['revenueB'] / merged_cumulitiv_orders['ordersB']) / (merged_cumulitiv_orders['revenueA'] / merged_cumulitiv_orders['ordersA']) -1)\n",
    "plt.axhline(y=0, color='black', linestyle='--');\n"
   ]
  },
  {
   "cell_type": "markdown",
   "metadata": {},
   "source": [
    "<div style=\"border:solid blue 2px; padding: 20px\">\n",
    "    График относительного изменения кумулятивного среднего чека группы В к группе А подтерждает ранее озвученные выводы. Средний в группу В выше, чем в группе А, но не напротяжении всего времени. Также видно много резких скачков, что говорит об аномально больших заказах и выбросах. Ближе к концу теста заметно, что разницамежду средними чеками групп также сокращается."
   ]
  },
  {
   "cell_type": "markdown",
   "metadata": {},
   "source": [
    "### Построим график кумулятивного среднего количества заказов на посетителя по группам"
   ]
  },
  {
   "cell_type": "code",
   "execution_count": 10,
   "metadata": {},
   "outputs": [
    {
     "data": {
      "image/png": "[encoded data removed]",
      "text/plain": [
       "<Figure size 1200x800 with 1 Axes>"
      ]
     },
     "metadata": {},
     "output_type": "display_data"
    }
   ],
   "source": [
    "\n",
    "visitors_A = visitors[visitors['group'] == 'A'][['date', 'visitors']]\n",
    "visitors_A.columns = ['date', 'visitors_A']\n",
    "visitors_B = visitors[visitors['group'] == 'B'][['date', 'visitors']]\n",
    "visitors_B.columns = ['date', 'visitors_B']\n",
    "cumulitiv_visitors_A = visitors_A.apply(lambda x: visitors_A[visitors_A['date'] <= x['date']].agg({'date' : 'max', 'visitors_A' : 'sum'}), axis=1).sort_values(by='date')\n",
    "cumulitiv_visitors_B = visitors_B.apply(lambda x: visitors_B[visitors_B['date'] <= x['date']].agg({'date' : 'max', 'visitors_B' : 'sum'}), axis=1).sort_values(by='date')\n",
    "cumulitiv_visitors = cumulitiv_visitors_A.merge(cumulitiv_visitors_B, on='date')\n",
    "merged_cumulitiv = merged_cumulitiv_orders.merge(cumulitiv_visitors, on='date')\n",
    "plt.figure(figsize=(12, 8))\n",
    "plt.title('График кумулятивного среднего количества заказов на посетителя по группам')\n",
    "plt.xlabel(\"Дата\")\n",
    "plt.ylabel(\"Среднее количество заказов на посетителя\")\n",
    "plt.plot(merged_cumulitiv['date'], merged_cumulitiv['ordersA'] / merged_cumulitiv['visitors_A'], label='A')\n",
    "plt.plot(merged_cumulitiv['date'], merged_cumulitiv['ordersB'] / merged_cumulitiv['visitors_B'], label='B')\n",
    "plt.legend();\n",
    "\n"
   ]
  },
  {
   "cell_type": "markdown",
   "metadata": {},
   "source": [
    "<div style=\"border:solid blue 2px; padding: 20px\">\n",
    "    Из графика  видно, что в начале теста среднее количество заказов на посетителя в группе А  было немного больше, но затем в группе В конверсия стала сильно больше."
   ]
  },
  {
   "cell_type": "markdown",
   "metadata": {},
   "source": [
    "### Построим график относительного изменения кумулятивного среднего количество заказов на поситителя группы В к группе А"
   ]
  },
  {
   "cell_type": "code",
   "execution_count": 11,
   "metadata": {},
   "outputs": [
    {
     "data": {
      "image/png": "[encoded data removed]",
      "text/plain": [
       "<Figure size 1200x1000 with 1 Axes>"
      ]
     },
     "metadata": {},
     "output_type": "display_data"
    }
   ],
   "source": [
    "plt.figure(figsize=(12, 10))\n",
    "plt.title('График отностельного изменения кумулятивного среднего количество заказов на поситителя группы В к группе А')\n",
    "plt.xlabel(\"Дата\")\n",
    "plt.ylabel(\"Относительное изменение\")\n",
    "plt.plot(merged_cumulitiv_orders['date'], merged_cumulitiv_orders['ordersB'] / merged_cumulitiv_orders['ordersA'] - 1)\n",
    "plt.axhline(y=0, color='black', linestyle='--')\n",
    "plt.axhline(y=0.13, color='grey', linestyle='--');\n"
   ]
  },
  {
   "cell_type": "markdown",
   "metadata": {},
   "source": [
    "<div style=\"border:solid blue 2px; padding: 20px\">\n",
    "    Сперва кумулятивное среднее количество заказов на посетителя группы В была ниже, но затем стала выше. Разница между ними к концу теста более менее зафиксировалась."
   ]
  },
  {
   "cell_type": "markdown",
   "metadata": {},
   "source": [
    "### Построим точечный график количества заказов на пользователя"
   ]
  },
  {
   "cell_type": "code",
   "execution_count": 12,
   "metadata": {
    "scrolled": false
   },
   "outputs": [
    {
     "data": {
      "image/png": "[encoded data removed]",
      "text/plain": [
       "<Figure size 1000x600 with 1 Axes>"
      ]
     },
     "metadata": {},
     "output_type": "display_data"
    }
   ],
   "source": [
    "orders_by_user = orders.groupby('visitor_id', as_index=False).agg({'transaction_id' : 'nunique'})\n",
    "orders_by_user.columns = ['visitor_id', 'orders']\n",
    "x_values = pd.Series(range(0, len(orders_by_user)))\n",
    "plt.figure(figsize=(10, 6))\n",
    "plt.title('Точечный график количества заказов на пользователя')\n",
    "plt.xlabel('Количество пользователей')\n",
    "plt.ylabel('Количество заказов')\n",
    "plt.scatter(x_values, orders_by_user['orders']);"
   ]
  },
  {
   "cell_type": "markdown",
   "metadata": {},
   "source": [
    "<div style=\"border:solid blue 2px; padding: 20px\">\n",
    "    Подавляющее большинство пользователей совершили всего 1 заказ. Доля совершивших 2 или 3 заказа, тоже существенна. Пользователей с 4 и более заказами совсем мало."
   ]
  },
  {
   "cell_type": "markdown",
   "metadata": {},
   "source": [
    "### Посчитаем 95-й и 99-й процентили количества заказов на пользователя"
   ]
  },
  {
   "cell_type": "code",
   "execution_count": 13,
   "metadata": {},
   "outputs": [
    {
     "data": {
      "text/plain": [
       "array([2., 4.])"
      ]
     },
     "metadata": {},
     "output_type": "display_data"
    }
   ],
   "source": [
    "display(np.percentile(orders_by_user['orders'], [95, 99]))"
   ]
  },
  {
   "cell_type": "markdown",
   "metadata": {},
   "source": [
    "<div style=\"border:solid blue 2px; padding: 20px\">\n",
    "Установим верхнюю границу для не аномальных пользователей в 2 заказа."
   ]
  },
  {
   "cell_type": "markdown",
   "metadata": {},
   "source": [
    "### Построим точечный график стоимостей заказов"
   ]
  },
  {
   "cell_type": "code",
   "execution_count": 14,
   "metadata": {
    "scrolled": true
   },
   "outputs": [
    {
     "data": {
      "image/png": "[encoded data removed]",
      "text/plain": [
       "<Figure size 800x500 with 1 Axes>"
      ]
     },
     "metadata": {},
     "output_type": "display_data"
    }
   ],
   "source": [
    "x_values = pd.Series(range(0, len(orders)))\n",
    "plt.figure(figsize=(8, 5))\n",
    "plt.title('Точечный график стоимостей заказов')\n",
    "plt.scatter(x_values, orders['revenue'])\n",
    "plt.xlabel('Количество пользователей')\n",
    "plt.ylabel('Стоимость заказов');"
   ]
  },
  {
   "cell_type": "markdown",
   "metadata": {},
   "source": [
    "<div style=\"border:solid blue 2px; padding: 20px\">\n",
    "    На графике два огромных заказа, сильно выбивающихся из общей массы. Первый более 1.2 млн рублей, второй около 200 тыс рублей. Основная же масса заказов ниже 30 тыс рублей."
   ]
  },
  {
   "cell_type": "markdown",
   "metadata": {},
   "source": [
    "### Посчитаем 95-й и 99-й перцентили стоимости заказов"
   ]
  },
  {
   "cell_type": "code",
   "execution_count": 15,
   "metadata": {},
   "outputs": [
    {
     "data": {
      "text/plain": [
       "array([28000. , 58233.2])"
      ]
     },
     "metadata": {},
     "output_type": "display_data"
    }
   ],
   "source": [
    "display(np.percentile(orders['revenue'], [95, 99]))"
   ]
  },
  {
   "cell_type": "markdown",
   "metadata": {},
   "source": [
    "<div style=\"border:solid blue 2px; padding: 20px\">\n",
    "    Установим верхнюю границу для не аномальных заказов в 28000 рублей. Так мы сможем сохранить 95% заказов и избавиться от самых аномально дорогих заказов"
   ]
  },
  {
   "cell_type": "markdown",
   "metadata": {},
   "source": [
    "### Посчитаем статистическую значимость различий в среднем количестве заказов на посетителя между группами по \"сырым\" данным."
   ]
  },
  {
   "cell_type": "markdown",
   "metadata": {},
   "source": [
    "<div style=\"border:solid green 2px; padding: 20px\">\n",
    "    Нулевая гипотеза: Среднее количество заказов на посетителя в группе В по \"сырым\" данным, равно среднему количеству заказов на посетителя в группе А по \"сырым\" данным.\n",
    "    Альтернативная гипотеза: Среднее количество заказов на посетителя в группе В по \"сырым\" данным, не равно среднему количеству заказов на посетителя в группе А по \"сырым\" данным.\n",
    "    Гипотезы будем проверять с помощью критерия Уилкоксона-Манна-Уитни. Используем именно этот критерий, по причине больших выбросов данных ( в сравнении с нормальным распределением), так как этот критерей является не параметрическим.\n",
    "    Критический уровень статистической значимости установим 0.05."
   ]
  },
  {
   "cell_type": "code",
   "execution_count": 16,
   "metadata": {},
   "outputs": [
    {
     "data": {
      "text/plain": [
       "'p-value:'"
      ]
     },
     "metadata": {},
     "output_type": "display_data"
    },
    {
     "data": {
      "text/plain": [
       "'0.017'"
      ]
     },
     "metadata": {},
     "output_type": "display_data"
    },
    {
     "data": {
      "text/plain": [
       "'Относительная разница между группами по среднему количеству заказов:'"
      ]
     },
     "metadata": {},
     "output_type": "display_data"
    },
    {
     "data": {
      "text/plain": [
       "'0.138'"
      ]
     },
     "metadata": {},
     "output_type": "display_data"
    }
   ],
   "source": [
    "orders_by_user_A = orders[orders['group'] == 'A'].groupby('visitor_id', as_index=False).agg({'transaction_id' : 'nunique'})\n",
    "orders_by_user_A.columns = ['visitor_id', 'orders']\n",
    "orders_by_user_B = orders[orders['group'] == 'B'].groupby('visitor_id', as_index=False).agg({'transaction_id' : 'nunique'})\n",
    "orders_by_user_B.columns = ['visitor_id', 'orders']\n",
    "visitors_per_date_A = visitors[visitors['group'] == 'A'][['date', 'visitors']]\n",
    "visitors_per_date_B = visitors[visitors['group'] == 'B'][['date', 'visitors']]\n",
    "sample_A = pd.concat(\n",
    "    [\n",
    "        orders_by_user_A['orders'],\n",
    "        pd.Series(\n",
    "            0,\n",
    "            index=np.arange(\n",
    "                visitors_per_date_A['visitors'].sum() - len(orders_by_user_A['orders'])\n",
    "            ),\n",
    "            name='orders',\n",
    "        ),\n",
    "    ],\n",
    "    axis=0,\n",
    ")\n",
    "sample_B = pd.concat(\n",
    "    [\n",
    "        orders_by_user_B['orders'],\n",
    "        pd.Series(\n",
    "            0,\n",
    "            index=np.arange(\n",
    "                visitors_per_date_B['visitors'].sum() - len(orders_by_user_B['orders'])\n",
    "            ),\n",
    "            name='orders',\n",
    "        ),\n",
    "    ],\n",
    "    axis=0,\n",
    ")\n",
    "display('p-value:', \"{0:.3f}\".format(stats.mannwhitneyu(sample_A, sample_B)[1]))\n",
    "display('Относительная разница между группами по среднему количеству заказов:', \"{0:.3f}\".format(sample_B.mean() / sample_A.mean() - 1))"
   ]
  },
  {
   "cell_type": "markdown",
   "metadata": {},
   "source": [
    "<div style=\"border:solid blue 2px; padding: 20px\">\n",
    "    Исходя из сырых данных по среденему количеству заказов на пользователя, можно сделать вывод, что статистически значимая разница между группами существует, так как p-value меньше 0.05. Причем разница между их средними - 13.8%"
   ]
  },
  {
   "cell_type": "markdown",
   "metadata": {},
   "source": [
    "### Посчитаем статистическую значимость различий в среднем чеке заказов  между группами по \"сырым\" данным."
   ]
  },
  {
   "cell_type": "markdown",
   "metadata": {},
   "source": [
    "<div style=\"border:solid green 2px; padding: 20px\">\n",
    "    Нулевая гипотеза: Средней чек в группе В по \"сырым\" данным, равен среднему чеку в группе А по \"сырым\" данным.\n",
    "    Альтернативная гипотеза: Средней чек в группе В по \"сырым\" данным, не равен среднему чеку в группе А по \"сырым\" данным.\n",
    "    Гипотезы будем проверять с помощью критерия Уилкоксона-Манна-Уитни. Используем именно этот критерий, по причине больших выбросов данных ( в сравнении с нормальным распределением), так как этот критерей является не параметрическим.\n",
    "    Критический уровень статистической значимости установим 0.05."
   ]
  },
  {
   "cell_type": "code",
   "execution_count": 17,
   "metadata": {},
   "outputs": [
    {
     "data": {
      "text/plain": [
       "'p-value:'"
      ]
     },
     "metadata": {},
     "output_type": "display_data"
    },
    {
     "data": {
      "text/plain": [
       "'0.729'"
      ]
     },
     "metadata": {},
     "output_type": "display_data"
    },
    {
     "data": {
      "text/plain": [
       "'Относительная разница между группами по среднему чеку:'"
      ]
     },
     "metadata": {},
     "output_type": "display_data"
    },
    {
     "data": {
      "text/plain": [
       "'0.259'"
      ]
     },
     "metadata": {},
     "output_type": "display_data"
    }
   ],
   "source": [
    "display('p-value:', \"{0:.3f}\".format(stats.mannwhitneyu(orders[orders['group'] == 'A']['revenue'], orders[orders['group'] == 'B']['revenue'])[1]))\n",
    "display('Относительная разница между группами по среднему чеку:', \"{0:.3f}\".format(orders[orders['group'] == 'B']['revenue'].mean() / orders[orders['group'] == 'A']['revenue'].mean() - 1))\n"
   ]
  },
  {
   "cell_type": "markdown",
   "metadata": {},
   "source": [
    "<div style=\"border:solid blue 2px; padding: 20px\">\n",
    "Исходя из сырых данных по среденему чеку, можно сделать вывод, что статистически значимой разницы между группами не существует, так как p-value сильно больше 0.05, несмотря на то, что средний чек по \"сырым\" данным в группе В вырос. "
   ]
  },
  {
   "cell_type": "markdown",
   "metadata": {},
   "source": [
    "### Посчитаем статистическую значимость различий в среднем количестве заказов на посетителя между группами по \"очищенным\" данным."
   ]
  },
  {
   "cell_type": "markdown",
   "metadata": {},
   "source": [
    "<div style=\"border:solid green 2px; padding: 20px\">\n",
    "    Создадим таблицу с аномальными пользователями"
   ]
  },
  {
   "cell_type": "code",
   "execution_count": 18,
   "metadata": {},
   "outputs": [],
   "source": [
    "users_many_orders = pd.concat(\n",
    "    [\n",
    "        orders_by_user_A[orders_by_user_A['orders'] > np.percentile(orders_by_user['orders'], 95)]['visitor_id'],\n",
    "        orders_by_user_B[orders_by_user_B['orders'] > np.percentile(orders_by_user['orders'], 95)]['visitor_id']\n",
    "        \n",
    "    ],\n",
    "    axis=0\n",
    ")\n",
    "users_expensive_orders = orders[orders['revenue'] > np.percentile(orders['revenue'], 95)]['visitor_id']\n",
    "abnormal_users = pd.concat([users_many_orders, users_expensive_orders], axis=0).drop_duplicates()"
   ]
  },
  {
   "cell_type": "markdown",
   "metadata": {},
   "source": [
    "<div style=\"border:solid green 2px; padding: 20px\">\n",
    "    Посчитаем потери пользователей, после фильтрации"
   ]
  },
  {
   "cell_type": "code",
   "execution_count": 19,
   "metadata": {},
   "outputs": [
    {
     "data": {
      "text/plain": [
       "'Количество аномальных пользователей'"
      ]
     },
     "metadata": {},
     "output_type": "display_data"
    },
    {
     "data": {
      "text/plain": [
       "74"
      ]
     },
     "metadata": {},
     "output_type": "display_data"
    },
    {
     "data": {
      "text/plain": [
       "'Доля аномальных пользователей'"
      ]
     },
     "metadata": {},
     "output_type": "display_data"
    },
    {
     "data": {
      "text/plain": [
       "0.072"
      ]
     },
     "metadata": {},
     "output_type": "display_data"
    }
   ],
   "source": [
    "display('Количество аномальных пользователей', len(abnormal_users))\n",
    "display('Доля аномальных пользователей', round(len(abnormal_users) / len(orders['visitor_id'].unique()), 3))"
   ]
  },
  {
   "cell_type": "markdown",
   "metadata": {},
   "source": [
    "<div style=\"border:solid blue 2px; padding: 20px\">\n",
    "    Отфильтровав аномальных пользователей, мы потеряли 7,2% всех пользователей"
   ]
  },
  {
   "cell_type": "markdown",
   "metadata": {},
   "source": [
    "### Посчитаем статистическую значимость различий в среднем количестве  заказов на посетителя  между группами по \"очищенным\" данным."
   ]
  },
  {
   "cell_type": "markdown",
   "metadata": {},
   "source": [
    "<div style=\"border:solid green 2px; padding: 20px\">\n",
    "    Нулевая гипотеза: Среднее количество заказов на посетителя в группе В по \"очищенным\" данным, равно среднему количеству заказов на посетителя в группе А по \"сырым\" данным.\n",
    "    Альтернативная гипотеза: Среднее количество заказов на посетителя в группе В по \"очищенным\" данным, не равно среднему количеству заказов на посетителя в группе А по \"сырым\" данным.\n",
    "    Гипотезы будем проверять с помощью критерия Уилкоксона-Манна-Уитни. Используем именно этот критерий, по причине больших выбросов данных ( в сравнении с нормальным распределением), так как этот критерей является не параметрическим.\n",
    "    Критический уровень статистической значимости установим 0.05."
   ]
  },
  {
   "cell_type": "code",
   "execution_count": 20,
   "metadata": {},
   "outputs": [
    {
     "data": {
      "text/plain": [
       "'p-value:'"
      ]
     },
     "metadata": {},
     "output_type": "display_data"
    },
    {
     "data": {
      "text/plain": [
       "'0.013'"
      ]
     },
     "metadata": {},
     "output_type": "display_data"
    },
    {
     "data": {
      "text/plain": [
       "'Относительная разница между группами по среднему количеству заказов:'"
      ]
     },
     "metadata": {},
     "output_type": "display_data"
    },
    {
     "data": {
      "text/plain": [
       "'0.173'"
      ]
     },
     "metadata": {},
     "output_type": "display_data"
    }
   ],
   "source": [
    "sample_filtred_A = pd.concat(\n",
    "    [\n",
    "        orders_by_user_A[np.logical_not(orders_by_user_A['visitor_id'].isin(abnormal_users))]['orders'],\n",
    "        pd.Series(\n",
    "            0,\n",
    "            index=np.arange(\n",
    "                visitors_per_date_A['visitors'].sum() - len(orders_by_user_A['orders'])\n",
    "            ),\n",
    "            name='orders',\n",
    "        ),\n",
    "    ],\n",
    "    axis=0,\n",
    ")\n",
    "sample_filtred_B = pd.concat(\n",
    "    [\n",
    "        orders_by_user_B[np.logical_not(orders_by_user_B['visitor_id'].isin(abnormal_users))]['orders'],\n",
    "        pd.Series(\n",
    "            0,\n",
    "            index=np.arange(\n",
    "                visitors_per_date_B['visitors'].sum() - len(orders_by_user_B['orders'])\n",
    "            ),\n",
    "            name='orders',\n",
    "        ),\n",
    "    ],\n",
    "    axis=0,\n",
    ")\n",
    "display('p-value:', \"{0:.3f}\".format(stats.mannwhitneyu(sample_filtred_A, sample_filtred_B)[1]))\n",
    "display('Относительная разница между группами по среднему количеству заказов:', \"{0:.3f}\".format(sample_filtred_B.mean() / sample_filtred_A.mean() - 1))"
   ]
  },
  {
   "cell_type": "markdown",
   "metadata": {},
   "source": [
    "<div style=\"border:solid blue 2px; padding: 20px\">\n",
    "    Исходя из ощищенных данных по среденему количеству заказов на пользователя, можно сделать вывод, что статистически значимая разница между группами существует, так как p-value меньше 0.05. Причем разница между их средними - 17,3%. Относительно \"сырых\" данных p-value немного уменьшился, а разница между средними увеличилась на 3,5%."
   ]
  },
  {
   "cell_type": "markdown",
   "metadata": {},
   "source": [
    "### Посчитаем статистическую значимость различий в среднем чеке заказов  между группами по \"очищенным\" данным.\n"
   ]
  },
  {
   "cell_type": "markdown",
   "metadata": {},
   "source": [
    "<div style=\"border:solid green 2px; padding: 20px\">\n",
    "    Нулевая гипотеза: Средний чек в группе В по \"очищенным\" данным, равен среднему чеку в группе А по \"очищенным\" данным.\n",
    "    Альтернативная гипотеза: Средний чек в группе В по \"очищенным\" данным, не равен среднему чеку в группе А по \"очищенным\" данным.\n",
    "    Гипотезы будем проверять с помощью критерия Уилкоксона-Манна-Уитни. Используем именно этот критерий, по причине больших выбросов данных ( в сравнении с нормальным распределением), так как этот критерей является не параметрическим.\n",
    "    Критический уровень статистической значимости установим 0.05."
   ]
  },
  {
   "cell_type": "code",
   "execution_count": 21,
   "metadata": {},
   "outputs": [
    {
     "data": {
      "text/plain": [
       "'p-value:'"
      ]
     },
     "metadata": {},
     "output_type": "display_data"
    },
    {
     "data": {
      "text/plain": [
       "'0.738'"
      ]
     },
     "metadata": {},
     "output_type": "display_data"
    },
    {
     "data": {
      "text/plain": [
       "'Относительная разница между группами по среднему чеку:'"
      ]
     },
     "metadata": {},
     "output_type": "display_data"
    },
    {
     "data": {
      "text/plain": [
       "'-0.020'"
      ]
     },
     "metadata": {},
     "output_type": "display_data"
    }
   ],
   "source": [
    "display('p-value:', \n",
    "    \"{0:.3f}\".format(\n",
    "    stats.mannwhitneyu(orders[np.logical_and(orders['group'] == 'A', np.logical_not(orders['visitor_id'].isin(abnormal_users)))]['revenue'],\n",
    "                       orders[np.logical_and(orders['group'] == 'B', np.logical_not(orders['visitor_id'].isin(abnormal_users)))]['revenue'])[1]\n",
    "    )\n",
    ")\n",
    "display('Относительная разница между группами по среднему чеку:', \n",
    "    \"{0:.3f}\".format(\n",
    "        orders[np.logical_and(orders['group'] == 'B', np.logical_not(orders['visitor_id'].isin(abnormal_users)))]['revenue'].mean() /\n",
    "        orders[np.logical_and(orders['group'] == 'A', np.logical_not(orders['visitor_id'].isin(abnormal_users)))]['revenue'].mean() - 1\n",
    "        )\n",
    ")"
   ]
  },
  {
   "cell_type": "markdown",
   "metadata": {},
   "source": [
    "<div style=\"border:solid blue 2px; padding: 20px\">\n",
    "Исходя из \"ощищенных\" данных по среденему чеку, по прежнему можно сделать вывод, что статистически значимой разницы между группами не существует, так как p-value по прежнему сильно больше 0.05 (близко к 1),  средний чек по \"ощищенным\" данным в группе В практически равен среднему чеку в группе А. Относительно \"сырых\" данных p-value незначительно увеличился, а вот разница между средним чеком групп сильно сократилась."
   ]
  },
  {
   "cell_type": "markdown",
   "metadata": {},
   "source": [
    "### Вывод\n",
    "<div style=\"border:solid blue 2px; padding: 20px\">\n",
    "Исходя из результатов можно сдлеать следующие выводы:\n",
    "Среднее количество заказов на пользователя в группах имеет статистически значимую разницу, как в \"сырых\" так и в \"ощищенных\" данных.\n",
    "Средний чек в группах не имеет статистически значимой разницы, как в \"сырых\" так и в \"ощищенных\" данных. Также  средний чек в группе В по \"ощищенным\" данным примерно такой же, как в группе А.  \n",
    "По графикам среднего количество заказов на посетителя также можно сделать вывод о том, что результаты группы B лучше группы A: имеют тенденцию к росту, либо зафиксировались около среднего значения.\n",
    "По графику средних чеков сложно делать выводы, так как имелись большие выбросы. \n",
    "В связи с выше изложенным, считаю что тест можно остановить, и зафиксировать победу группы В, не смотря на отсутсвие статистически значимой разницы среднего чека, так как есть точное понимание серьезного роста количества заказов на пользователя."
   ]
  }
 ],
 "metadata": {
  "ExecuteTimeLog": [
   {
    "duration": 374,
    "start_time": "2023-02-28T07:44:51.747Z"
   },
   {
    "duration": 97,
    "start_time": "2023-02-28T07:47:04.819Z"
   },
   {
    "duration": 974,
    "start_time": "2023-02-28T07:48:59.263Z"
   },
   {
    "duration": 238,
    "start_time": "2023-02-28T07:49:06.598Z"
   },
   {
    "duration": 28,
    "start_time": "2023-02-28T07:49:32.495Z"
   },
   {
    "duration": 30,
    "start_time": "2023-02-28T07:50:27.300Z"
   },
   {
    "duration": 41,
    "start_time": "2023-02-28T07:53:08.264Z"
   },
   {
    "duration": 10,
    "start_time": "2023-02-28T07:56:15.452Z"
   },
   {
    "duration": 12,
    "start_time": "2023-02-28T07:58:27.944Z"
   },
   {
    "duration": 10,
    "start_time": "2023-02-28T08:00:12.565Z"
   },
   {
    "duration": 13,
    "start_time": "2023-02-28T08:00:22.051Z"
   },
   {
    "duration": 10,
    "start_time": "2023-02-28T08:01:28.492Z"
   },
   {
    "duration": 30,
    "start_time": "2023-02-28T08:01:34.551Z"
   },
   {
    "duration": 11,
    "start_time": "2023-02-28T08:01:36.347Z"
   },
   {
    "duration": 11,
    "start_time": "2023-02-28T08:01:48.009Z"
   },
   {
    "duration": 640,
    "start_time": "2023-02-28T08:32:20.708Z"
   },
   {
    "duration": 83,
    "start_time": "2023-02-28T08:32:48.419Z"
   },
   {
    "duration": 35,
    "start_time": "2023-02-28T08:34:06.021Z"
   },
   {
    "duration": 53,
    "start_time": "2023-02-28T08:34:14.643Z"
   },
   {
    "duration": 88,
    "start_time": "2023-02-28T08:34:36.546Z"
   },
   {
    "duration": 98,
    "start_time": "2023-02-28T08:35:12.418Z"
   },
   {
    "duration": 340,
    "start_time": "2023-02-28T08:37:08.558Z"
   },
   {
    "duration": 417,
    "start_time": "2023-02-28T08:37:44.578Z"
   },
   {
    "duration": 369,
    "start_time": "2023-02-28T08:38:37.144Z"
   },
   {
    "duration": 394,
    "start_time": "2023-02-28T08:39:04.194Z"
   },
   {
    "duration": 101,
    "start_time": "2023-02-28T08:39:19.903Z"
   },
   {
    "duration": 42,
    "start_time": "2023-02-28T08:42:36.526Z"
   },
   {
    "duration": 9,
    "start_time": "2023-02-28T09:42:43.624Z"
   },
   {
    "duration": 9,
    "start_time": "2023-02-28T09:42:47.212Z"
   },
   {
    "duration": 13,
    "start_time": "2023-02-28T09:43:01.933Z"
   },
   {
    "duration": 14,
    "start_time": "2023-02-28T09:47:17.910Z"
   },
   {
    "duration": 15,
    "start_time": "2023-02-28T09:47:33.951Z"
   },
   {
    "duration": 18,
    "start_time": "2023-02-28T09:47:48.715Z"
   },
   {
    "duration": 599,
    "start_time": "2023-02-28T10:04:57.176Z"
   },
   {
    "duration": 706,
    "start_time": "2023-02-28T10:05:36.132Z"
   },
   {
    "duration": 34,
    "start_time": "2023-02-28T10:07:52.304Z"
   },
   {
    "duration": 33,
    "start_time": "2023-02-28T10:09:12.370Z"
   },
   {
    "duration": 65,
    "start_time": "2023-02-28T10:12:17.817Z"
   },
   {
    "duration": 110,
    "start_time": "2023-02-28T10:17:38.875Z"
   },
   {
    "duration": 114,
    "start_time": "2023-02-28T10:17:50.051Z"
   },
   {
    "duration": 108,
    "start_time": "2023-02-28T10:18:10.236Z"
   },
   {
    "duration": 114,
    "start_time": "2023-02-28T10:18:38.275Z"
   },
   {
    "duration": 109,
    "start_time": "2023-02-28T10:25:33.172Z"
   },
   {
    "duration": 840,
    "start_time": "2023-02-28T10:26:15.373Z"
   },
   {
    "duration": 360,
    "start_time": "2023-02-28T10:26:19.278Z"
   },
   {
    "duration": 260,
    "start_time": "2023-02-28T10:26:26.981Z"
   },
   {
    "duration": 241,
    "start_time": "2023-02-28T10:26:36.197Z"
   },
   {
    "duration": 272,
    "start_time": "2023-02-28T10:26:54.131Z"
   },
   {
    "duration": 114,
    "start_time": "2023-02-28T10:27:35.668Z"
   },
   {
    "duration": 91,
    "start_time": "2023-02-28T10:29:16.596Z"
   },
   {
    "duration": 109,
    "start_time": "2023-02-28T10:29:49.931Z"
   },
   {
    "duration": 101,
    "start_time": "2023-02-28T10:31:02.570Z"
   },
   {
    "duration": 244,
    "start_time": "2023-02-28T10:32:21.961Z"
   },
   {
    "duration": 117,
    "start_time": "2023-02-28T10:33:51.696Z"
   },
   {
    "duration": 363,
    "start_time": "2023-02-28T10:34:26.975Z"
   },
   {
    "duration": 326,
    "start_time": "2023-02-28T10:35:27.662Z"
   },
   {
    "duration": 308,
    "start_time": "2023-02-28T10:37:55.054Z"
   },
   {
    "duration": 404,
    "start_time": "2023-02-28T10:38:05.720Z"
   },
   {
    "duration": 56,
    "start_time": "2023-03-01T12:21:33.934Z"
   },
   {
    "duration": 496,
    "start_time": "2023-03-01T12:21:43.209Z"
   },
   {
    "duration": 15,
    "start_time": "2023-03-01T12:21:43.708Z"
   },
   {
    "duration": 15,
    "start_time": "2023-03-01T12:21:43.724Z"
   },
   {
    "duration": 1024,
    "start_time": "2023-03-01T12:21:43.741Z"
   },
   {
    "duration": 427,
    "start_time": "2023-03-01T12:21:51.490Z"
   },
   {
    "duration": 53,
    "start_time": "2023-03-02T05:06:48.332Z"
   },
   {
    "duration": 604,
    "start_time": "2023-03-02T05:06:56.869Z"
   },
   {
    "duration": 9,
    "start_time": "2023-03-02T05:06:57.475Z"
   },
   {
    "duration": 10,
    "start_time": "2023-03-02T05:06:57.486Z"
   },
   {
    "duration": 1019,
    "start_time": "2023-03-02T05:06:57.497Z"
   },
   {
    "duration": 384,
    "start_time": "2023-03-02T05:06:58.518Z"
   },
   {
    "duration": 226,
    "start_time": "2023-03-02T05:06:58.904Z"
   },
   {
    "duration": 246,
    "start_time": "2023-03-02T06:24:00.419Z"
   },
   {
    "duration": 291,
    "start_time": "2023-03-02T06:24:58.103Z"
   },
   {
    "duration": 252,
    "start_time": "2023-03-02T06:25:10.225Z"
   },
   {
    "duration": 235,
    "start_time": "2023-03-02T06:25:22.975Z"
   },
   {
    "duration": 396,
    "start_time": "2023-03-02T06:25:44.476Z"
   },
   {
    "duration": 400,
    "start_time": "2023-03-02T06:27:12.059Z"
   },
   {
    "duration": 10,
    "start_time": "2023-03-02T06:33:53.636Z"
   },
   {
    "duration": 10,
    "start_time": "2023-03-02T06:35:08.110Z"
   },
   {
    "duration": 1022,
    "start_time": "2023-03-02T06:43:42.433Z"
   },
   {
    "duration": 99,
    "start_time": "2023-03-02T06:46:17.492Z"
   },
   {
    "duration": 74,
    "start_time": "2023-03-02T06:50:05.400Z"
   },
   {
    "duration": 50,
    "start_time": "2023-03-02T06:50:47.972Z"
   },
   {
    "duration": 5,
    "start_time": "2023-03-02T06:53:28.607Z"
   },
   {
    "duration": 105,
    "start_time": "2023-03-02T06:54:03.819Z"
   },
   {
    "duration": 99,
    "start_time": "2023-03-02T06:54:13.774Z"
   },
   {
    "duration": 93,
    "start_time": "2023-03-02T06:56:12.046Z"
   },
   {
    "duration": 101,
    "start_time": "2023-03-02T06:56:20.787Z"
   },
   {
    "duration": 100,
    "start_time": "2023-03-02T06:57:07.775Z"
   },
   {
    "duration": 100,
    "start_time": "2023-03-02T06:57:19.158Z"
   },
   {
    "duration": 341,
    "start_time": "2023-03-02T07:03:42.678Z"
   },
   {
    "duration": 106,
    "start_time": "2023-03-02T07:07:47.198Z"
   },
   {
    "duration": 347,
    "start_time": "2023-03-02T07:07:56.798Z"
   },
   {
    "duration": 338,
    "start_time": "2023-03-02T07:08:44.572Z"
   },
   {
    "duration": 329,
    "start_time": "2023-03-02T07:09:02.932Z"
   },
   {
    "duration": 318,
    "start_time": "2023-03-02T07:10:03.318Z"
   },
   {
    "duration": 345,
    "start_time": "2023-03-02T07:11:43.258Z"
   },
   {
    "duration": 346,
    "start_time": "2023-03-02T07:12:04.634Z"
   },
   {
    "duration": 343,
    "start_time": "2023-03-02T07:12:57.120Z"
   },
   {
    "duration": 361,
    "start_time": "2023-03-02T07:15:13.826Z"
   },
   {
    "duration": 335,
    "start_time": "2023-03-02T07:15:17.719Z"
   },
   {
    "duration": 338,
    "start_time": "2023-03-02T07:15:35.757Z"
   },
   {
    "duration": 406,
    "start_time": "2023-03-02T07:16:28.456Z"
   },
   {
    "duration": 322,
    "start_time": "2023-03-02T07:17:35.891Z"
   },
   {
    "duration": 299,
    "start_time": "2023-03-02T07:17:47.232Z"
   },
   {
    "duration": 356,
    "start_time": "2023-03-02T07:17:56.297Z"
   },
   {
    "duration": 308,
    "start_time": "2023-03-02T07:18:21.373Z"
   },
   {
    "duration": 308,
    "start_time": "2023-03-02T07:18:34.166Z"
   },
   {
    "duration": 351,
    "start_time": "2023-03-02T07:27:19.293Z"
   },
   {
    "duration": 351,
    "start_time": "2023-03-02T07:28:44.806Z"
   },
   {
    "duration": 310,
    "start_time": "2023-03-02T07:29:14.210Z"
   },
   {
    "duration": 354,
    "start_time": "2023-03-02T07:29:28.978Z"
   },
   {
    "duration": 404,
    "start_time": "2023-03-02T07:29:40.208Z"
   },
   {
    "duration": 379,
    "start_time": "2023-03-02T07:30:19.167Z"
   },
   {
    "duration": 419,
    "start_time": "2023-03-02T07:30:28.202Z"
   },
   {
    "duration": 115,
    "start_time": "2023-03-02T07:42:50.488Z"
   },
   {
    "duration": 139,
    "start_time": "2023-03-02T07:43:22.268Z"
   },
   {
    "duration": 350,
    "start_time": "2023-03-02T07:44:21.283Z"
   },
   {
    "duration": 6,
    "start_time": "2023-03-02T07:45:44.872Z"
   },
   {
    "duration": 5,
    "start_time": "2023-03-02T07:45:47.512Z"
   },
   {
    "duration": 11,
    "start_time": "2023-03-02T07:45:52.456Z"
   },
   {
    "duration": 368,
    "start_time": "2023-03-02T07:46:56.406Z"
   },
   {
    "duration": 8,
    "start_time": "2023-03-02T07:47:31.824Z"
   },
   {
    "duration": 8,
    "start_time": "2023-03-02T07:47:34.813Z"
   },
   {
    "duration": 16,
    "start_time": "2023-03-02T07:47:42.422Z"
   },
   {
    "duration": 43,
    "start_time": "2023-03-02T07:52:30.619Z"
   },
   {
    "duration": 10,
    "start_time": "2023-03-02T07:52:30.664Z"
   },
   {
    "duration": 57,
    "start_time": "2023-03-02T07:52:30.675Z"
   },
   {
    "duration": 129,
    "start_time": "2023-03-02T07:52:30.734Z"
   },
   {
    "duration": 316,
    "start_time": "2023-03-02T07:52:30.865Z"
   },
   {
    "duration": 227,
    "start_time": "2023-03-02T07:52:31.183Z"
   },
   {
    "duration": 348,
    "start_time": "2023-03-02T07:52:31.412Z"
   },
   {
    "duration": 333,
    "start_time": "2023-03-02T07:52:31.762Z"
   },
   {
    "duration": 329,
    "start_time": "2023-03-02T07:52:32.096Z"
   },
   {
    "duration": 12,
    "start_time": "2023-03-02T07:52:32.428Z"
   },
   {
    "duration": 14,
    "start_time": "2023-03-02T07:54:27.622Z"
   },
   {
    "duration": 7,
    "start_time": "2023-03-02T07:57:24.610Z"
   },
   {
    "duration": 108,
    "start_time": "2023-03-02T07:58:18.682Z"
   },
   {
    "duration": 120,
    "start_time": "2023-03-02T07:59:42.083Z"
   },
   {
    "duration": 124,
    "start_time": "2023-03-02T07:59:50.063Z"
   },
   {
    "duration": 120,
    "start_time": "2023-03-02T07:59:57.003Z"
   },
   {
    "duration": 138,
    "start_time": "2023-03-02T08:00:08.338Z"
   },
   {
    "duration": 10,
    "start_time": "2023-03-02T08:07:27.809Z"
   },
   {
    "duration": 5,
    "start_time": "2023-03-02T08:08:04.613Z"
   },
   {
    "duration": 150,
    "start_time": "2023-03-02T08:16:38.050Z"
   },
   {
    "duration": 295,
    "start_time": "2023-03-02T08:17:13.111Z"
   },
   {
    "duration": 12,
    "start_time": "2023-03-02T08:23:48.312Z"
   },
   {
    "duration": 5,
    "start_time": "2023-03-02T08:23:54.934Z"
   },
   {
    "duration": 6,
    "start_time": "2023-03-02T08:24:34.544Z"
   },
   {
    "duration": 54,
    "start_time": "2023-03-03T05:19:54.464Z"
   },
   {
    "duration": 534,
    "start_time": "2023-03-03T05:19:59.501Z"
   },
   {
    "duration": 15,
    "start_time": "2023-03-03T05:20:00.037Z"
   },
   {
    "duration": 61,
    "start_time": "2023-03-03T05:20:00.053Z"
   },
   {
    "duration": 1315,
    "start_time": "2023-03-03T05:20:00.116Z"
   },
   {
    "duration": 543,
    "start_time": "2023-03-03T05:20:01.436Z"
   },
   {
    "duration": 254,
    "start_time": "2023-03-03T05:20:01.982Z"
   },
   {
    "duration": 363,
    "start_time": "2023-03-03T05:20:02.243Z"
   },
   {
    "duration": 367,
    "start_time": "2023-03-03T05:20:02.608Z"
   },
   {
    "duration": 326,
    "start_time": "2023-03-03T05:20:02.977Z"
   },
   {
    "duration": 174,
    "start_time": "2023-03-03T05:20:03.305Z"
   },
   {
    "duration": 6,
    "start_time": "2023-03-03T05:20:03.480Z"
   },
   {
    "duration": 233,
    "start_time": "2023-03-03T05:20:03.487Z"
   },
   {
    "duration": 4,
    "start_time": "2023-03-03T05:20:03.722Z"
   },
   {
    "duration": 47,
    "start_time": "2023-03-03T05:20:03.729Z"
   },
   {
    "duration": 15,
    "start_time": "2023-03-03T05:24:12.003Z"
   },
   {
    "duration": 17,
    "start_time": "2023-03-03T05:24:21.387Z"
   },
   {
    "duration": 17,
    "start_time": "2023-03-03T05:24:30.100Z"
   },
   {
    "duration": 33,
    "start_time": "2023-03-03T05:37:24.750Z"
   },
   {
    "duration": 1842,
    "start_time": "2023-03-03T05:38:09.172Z"
   },
   {
    "duration": 1635,
    "start_time": "2023-03-03T05:38:16.080Z"
   },
   {
    "duration": 23,
    "start_time": "2023-03-03T05:38:42.176Z"
   },
   {
    "duration": 1605,
    "start_time": "2023-03-03T05:39:47.355Z"
   },
   {
    "duration": 28,
    "start_time": "2023-03-03T05:40:55.155Z"
   },
   {
    "duration": 63,
    "start_time": "2023-03-03T05:46:06.287Z"
   },
   {
    "duration": 84,
    "start_time": "2023-03-03T05:46:35.076Z"
   },
   {
    "duration": 67,
    "start_time": "2023-03-03T05:46:45.196Z"
   },
   {
    "duration": 538,
    "start_time": "2023-03-03T06:33:04.297Z"
   },
   {
    "duration": 495,
    "start_time": "2023-03-03T06:33:11.179Z"
   },
   {
    "duration": 339,
    "start_time": "2023-03-03T06:41:24.658Z"
   },
   {
    "duration": 478,
    "start_time": "2023-03-03T06:46:29.122Z"
   },
   {
    "duration": 421,
    "start_time": "2023-03-03T06:47:08.082Z"
   },
   {
    "duration": 29,
    "start_time": "2023-03-03T07:00:12.586Z"
   },
   {
    "duration": 67,
    "start_time": "2023-03-03T07:00:28.096Z"
   },
   {
    "duration": 78,
    "start_time": "2023-03-03T07:01:38.488Z"
   },
   {
    "duration": 64,
    "start_time": "2023-03-03T07:01:51.217Z"
   },
   {
    "duration": 91,
    "start_time": "2023-03-03T07:29:07.222Z"
   },
   {
    "duration": 58,
    "start_time": "2023-03-03T07:29:38.866Z"
   },
   {
    "duration": 10,
    "start_time": "2023-03-03T07:30:17.169Z"
   },
   {
    "duration": 21,
    "start_time": "2023-03-03T07:30:39.572Z"
   },
   {
    "duration": 80,
    "start_time": "2023-03-03T07:30:53.965Z"
   },
   {
    "duration": 9,
    "start_time": "2023-03-03T07:31:02.280Z"
   },
   {
    "duration": 1745,
    "start_time": "2023-03-03T07:38:27.459Z"
   },
   {
    "duration": 1714,
    "start_time": "2023-03-03T07:38:29.681Z"
   },
   {
    "duration": 25,
    "start_time": "2023-03-03T07:40:34.414Z"
   },
   {
    "duration": 26,
    "start_time": "2023-03-03T07:40:52.039Z"
   },
   {
    "duration": 80,
    "start_time": "2023-03-03T07:40:55.204Z"
   },
   {
    "duration": 32,
    "start_time": "2023-03-03T07:52:54.656Z"
   },
   {
    "duration": 13,
    "start_time": "2023-03-03T07:57:32.338Z"
   },
   {
    "duration": 23,
    "start_time": "2023-03-03T07:57:38.306Z"
   },
   {
    "duration": 20,
    "start_time": "2023-03-03T08:00:51.580Z"
   },
   {
    "duration": 9,
    "start_time": "2023-03-03T08:01:02.103Z"
   },
   {
    "duration": 508,
    "start_time": "2023-03-03T10:41:03.708Z"
   },
   {
    "duration": 12,
    "start_time": "2023-03-03T10:41:04.227Z"
   },
   {
    "duration": 23,
    "start_time": "2023-03-03T10:41:04.240Z"
   },
   {
    "duration": 1097,
    "start_time": "2023-03-03T10:41:04.264Z"
   },
   {
    "duration": 414,
    "start_time": "2023-03-03T10:41:05.363Z"
   },
   {
    "duration": 244,
    "start_time": "2023-03-03T10:41:05.779Z"
   },
   {
    "duration": 384,
    "start_time": "2023-03-03T10:41:06.026Z"
   },
   {
    "duration": 261,
    "start_time": "2023-03-03T10:41:06.411Z"
   },
   {
    "duration": 373,
    "start_time": "2023-03-03T10:41:06.674Z"
   },
   {
    "duration": 132,
    "start_time": "2023-03-03T10:41:07.049Z"
   },
   {
    "duration": 12,
    "start_time": "2023-03-03T10:41:07.182Z"
   },
   {
    "duration": 182,
    "start_time": "2023-03-03T10:41:07.195Z"
   },
   {
    "duration": 5,
    "start_time": "2023-03-03T10:41:07.378Z"
   },
   {
    "duration": 60,
    "start_time": "2023-03-03T10:41:07.392Z"
   },
   {
    "duration": 20,
    "start_time": "2023-03-03T10:41:07.453Z"
   },
   {
    "duration": 9,
    "start_time": "2023-03-03T10:41:07.474Z"
   },
   {
    "duration": 155,
    "start_time": "2023-03-03T10:41:07.484Z"
   },
   {
    "duration": 0,
    "start_time": "2023-03-03T10:41:07.640Z"
   },
   {
    "duration": 31,
    "start_time": "2023-03-03T10:41:28.036Z"
   },
   {
    "duration": 38,
    "start_time": "2023-03-03T10:41:30.566Z"
   },
   {
    "duration": 75,
    "start_time": "2023-03-03T10:41:30.605Z"
   },
   {
    "duration": 437,
    "start_time": "2023-03-03T10:43:38.027Z"
   },
   {
    "duration": 12,
    "start_time": "2023-03-03T10:43:38.465Z"
   },
   {
    "duration": 12,
    "start_time": "2023-03-03T10:43:38.478Z"
   },
   {
    "duration": 849,
    "start_time": "2023-03-03T10:43:38.492Z"
   },
   {
    "duration": 431,
    "start_time": "2023-03-03T10:43:39.342Z"
   },
   {
    "duration": 276,
    "start_time": "2023-03-03T10:43:39.775Z"
   },
   {
    "duration": 402,
    "start_time": "2023-03-03T10:43:40.053Z"
   },
   {
    "duration": 229,
    "start_time": "2023-03-03T10:43:40.457Z"
   },
   {
    "duration": 368,
    "start_time": "2023-03-03T10:43:40.690Z"
   },
   {
    "duration": 151,
    "start_time": "2023-03-03T10:43:41.061Z"
   },
   {
    "duration": 6,
    "start_time": "2023-03-03T10:43:41.214Z"
   },
   {
    "duration": 169,
    "start_time": "2023-03-03T10:43:41.225Z"
   },
   {
    "duration": 15,
    "start_time": "2023-03-03T10:43:41.396Z"
   },
   {
    "duration": 60,
    "start_time": "2023-03-03T10:43:41.413Z"
   },
   {
    "duration": 12,
    "start_time": "2023-03-03T10:43:41.475Z"
   },
   {
    "duration": 46,
    "start_time": "2023-03-03T10:43:41.488Z"
   },
   {
    "duration": 41,
    "start_time": "2023-03-03T10:43:41.536Z"
   },
   {
    "duration": 25,
    "start_time": "2023-03-03T10:43:41.578Z"
   },
   {
    "duration": 64,
    "start_time": "2023-03-03T11:43:33.048Z"
   },
   {
    "duration": 476,
    "start_time": "2023-03-03T11:43:44.782Z"
   },
   {
    "duration": 14,
    "start_time": "2023-03-03T11:43:45.260Z"
   },
   {
    "duration": 11,
    "start_time": "2023-03-03T11:43:45.276Z"
   },
   {
    "duration": 1203,
    "start_time": "2023-03-03T11:43:45.290Z"
   },
   {
    "duration": 421,
    "start_time": "2023-03-03T11:43:46.495Z"
   },
   {
    "duration": 244,
    "start_time": "2023-03-03T11:43:46.918Z"
   },
   {
    "duration": 412,
    "start_time": "2023-03-03T11:43:47.164Z"
   },
   {
    "duration": 263,
    "start_time": "2023-03-03T11:43:47.578Z"
   },
   {
    "duration": 368,
    "start_time": "2023-03-03T11:43:47.843Z"
   },
   {
    "duration": 163,
    "start_time": "2023-03-03T11:43:48.214Z"
   },
   {
    "duration": 6,
    "start_time": "2023-03-03T11:43:48.379Z"
   },
   {
    "duration": 194,
    "start_time": "2023-03-03T11:43:48.387Z"
   },
   {
    "duration": 5,
    "start_time": "2023-03-03T11:43:48.583Z"
   },
   {
    "duration": 39,
    "start_time": "2023-03-03T11:43:48.590Z"
   },
   {
    "duration": 33,
    "start_time": "2023-03-03T11:43:48.631Z"
   },
   {
    "duration": 10,
    "start_time": "2023-03-03T11:43:48.666Z"
   },
   {
    "duration": 39,
    "start_time": "2023-03-03T11:43:48.678Z"
   },
   {
    "duration": 47,
    "start_time": "2023-03-03T11:43:48.718Z"
   },
   {
    "duration": 8,
    "start_time": "2023-03-03T11:44:25.901Z"
   },
   {
    "duration": 40,
    "start_time": "2023-03-03T11:47:00.499Z"
   },
   {
    "duration": 17,
    "start_time": "2023-03-03T11:49:10.625Z"
   },
   {
    "duration": 39,
    "start_time": "2023-03-03T12:47:34.764Z"
   },
   {
    "duration": 78,
    "start_time": "2023-03-03T12:50:40.957Z"
   },
   {
    "duration": 96,
    "start_time": "2023-03-03T12:51:06.220Z"
   },
   {
    "duration": 72,
    "start_time": "2023-03-03T12:52:09.853Z"
   },
   {
    "duration": 78,
    "start_time": "2023-03-03T12:57:58.046Z"
   },
   {
    "duration": 13,
    "start_time": "2023-03-03T12:58:56.166Z"
   },
   {
    "duration": 118,
    "start_time": "2023-03-03T13:03:25.653Z"
   },
   {
    "duration": 122,
    "start_time": "2023-03-03T13:04:33.914Z"
   },
   {
    "duration": 82,
    "start_time": "2023-03-03T13:05:14.166Z"
   },
   {
    "duration": 132,
    "start_time": "2023-03-03T13:05:20.947Z"
   },
   {
    "duration": 109,
    "start_time": "2023-03-03T13:05:43.517Z"
   },
   {
    "duration": 133,
    "start_time": "2023-03-03T13:07:41.357Z"
   },
   {
    "duration": 116,
    "start_time": "2023-03-03T13:07:58.971Z"
   },
   {
    "duration": 130,
    "start_time": "2023-03-03T13:10:19.074Z"
   },
   {
    "duration": 130,
    "start_time": "2023-03-03T13:11:00.792Z"
   },
   {
    "duration": 181,
    "start_time": "2023-03-03T13:11:48.072Z"
   },
   {
    "duration": 146,
    "start_time": "2023-03-03T13:12:05.632Z"
   },
   {
    "duration": 159,
    "start_time": "2023-03-03T13:13:13.699Z"
   },
   {
    "duration": 149,
    "start_time": "2023-03-03T13:14:37.229Z"
   },
   {
    "duration": 123,
    "start_time": "2023-03-03T13:15:04.456Z"
   },
   {
    "duration": 128,
    "start_time": "2023-03-03T13:15:40.644Z"
   },
   {
    "duration": 119,
    "start_time": "2023-03-03T13:16:18.123Z"
   },
   {
    "duration": 123,
    "start_time": "2023-03-03T13:19:22.510Z"
   },
   {
    "duration": 117,
    "start_time": "2023-03-03T13:19:31.521Z"
   },
   {
    "duration": 149,
    "start_time": "2023-03-03T13:20:30.567Z"
   },
   {
    "duration": 123,
    "start_time": "2023-03-03T13:20:47.857Z"
   },
   {
    "duration": 128,
    "start_time": "2023-03-03T13:21:11.167Z"
   },
   {
    "duration": 121,
    "start_time": "2023-03-03T13:21:22.970Z"
   },
   {
    "duration": 140,
    "start_time": "2023-03-03T13:21:44.923Z"
   },
   {
    "duration": 125,
    "start_time": "2023-03-03T13:21:51.772Z"
   },
   {
    "duration": 123,
    "start_time": "2023-03-03T13:22:26.421Z"
   },
   {
    "duration": 132,
    "start_time": "2023-03-03T13:22:34.751Z"
   },
   {
    "duration": 128,
    "start_time": "2023-03-03T13:22:52.524Z"
   },
   {
    "duration": 132,
    "start_time": "2023-03-03T13:23:08.474Z"
   },
   {
    "duration": 131,
    "start_time": "2023-03-03T13:23:33.080Z"
   },
   {
    "duration": 136,
    "start_time": "2023-03-03T13:24:11.360Z"
   },
   {
    "duration": 118,
    "start_time": "2023-03-03T13:24:52.539Z"
   },
   {
    "duration": 168,
    "start_time": "2023-03-03T13:25:09.672Z"
   },
   {
    "duration": 161,
    "start_time": "2023-03-03T13:25:14.853Z"
   },
   {
    "duration": 134,
    "start_time": "2023-03-03T13:25:32.418Z"
   },
   {
    "duration": 124,
    "start_time": "2023-03-03T13:26:18.306Z"
   },
   {
    "duration": 153,
    "start_time": "2023-03-03T13:47:23.137Z"
   },
   {
    "duration": 100,
    "start_time": "2023-03-03T13:51:31.654Z"
   },
   {
    "duration": 131,
    "start_time": "2023-03-03T13:51:36.096Z"
   },
   {
    "duration": 137,
    "start_time": "2023-03-03T13:52:57.592Z"
   },
   {
    "duration": 138,
    "start_time": "2023-03-03T13:53:47.566Z"
   },
   {
    "duration": 151,
    "start_time": "2023-03-03T13:58:03.441Z"
   },
   {
    "duration": 188,
    "start_time": "2023-03-03T14:04:52.693Z"
   },
   {
    "duration": 152,
    "start_time": "2023-03-03T14:05:02.880Z"
   },
   {
    "duration": 143,
    "start_time": "2023-03-03T14:07:14.268Z"
   },
   {
    "duration": 172,
    "start_time": "2023-03-03T14:07:38.734Z"
   },
   {
    "duration": 132,
    "start_time": "2023-03-03T14:12:08.106Z"
   },
   {
    "duration": 101,
    "start_time": "2023-03-03T14:12:47.488Z"
   },
   {
    "duration": 124,
    "start_time": "2023-03-03T14:12:52.808Z"
   },
   {
    "duration": 124,
    "start_time": "2023-03-03T14:14:26.123Z"
   },
   {
    "duration": 126,
    "start_time": "2023-03-03T14:14:36.562Z"
   },
   {
    "duration": 127,
    "start_time": "2023-03-03T14:16:49.026Z"
   },
   {
    "duration": 126,
    "start_time": "2023-03-03T14:17:11.582Z"
   },
   {
    "duration": 118,
    "start_time": "2023-03-03T14:17:26.383Z"
   },
   {
    "duration": 118,
    "start_time": "2023-03-03T14:17:33.352Z"
   },
   {
    "duration": 147,
    "start_time": "2023-03-03T14:20:10.976Z"
   },
   {
    "duration": 134,
    "start_time": "2023-03-03T14:27:44.509Z"
   },
   {
    "duration": 129,
    "start_time": "2023-03-03T14:28:04.703Z"
   },
   {
    "duration": 131,
    "start_time": "2023-03-03T14:28:13.296Z"
   },
   {
    "duration": 73,
    "start_time": "2023-03-03T14:29:23.991Z"
   },
   {
    "duration": 135,
    "start_time": "2023-03-03T14:29:31.429Z"
   },
   {
    "duration": 361,
    "start_time": "2023-03-03T14:34:06.720Z"
   },
   {
    "duration": 354,
    "start_time": "2023-03-03T14:34:36.108Z"
   },
   {
    "duration": 235,
    "start_time": "2023-03-03T14:36:44.316Z"
   },
   {
    "duration": 348,
    "start_time": "2023-03-03T14:37:09.305Z"
   },
   {
    "duration": 226,
    "start_time": "2023-03-03T14:38:07.286Z"
   },
   {
    "duration": 336,
    "start_time": "2023-03-03T14:38:23.684Z"
   },
   {
    "duration": 342,
    "start_time": "2023-03-03T14:39:04.451Z"
   },
   {
    "duration": 301,
    "start_time": "2023-03-03T14:39:21.301Z"
   },
   {
    "duration": 254,
    "start_time": "2023-03-03T14:39:50.920Z"
   },
   {
    "duration": 245,
    "start_time": "2023-03-03T14:39:55.451Z"
   },
   {
    "duration": 354,
    "start_time": "2023-03-03T14:40:26.168Z"
   },
   {
    "duration": 427,
    "start_time": "2023-03-03T14:41:17.634Z"
   },
   {
    "duration": 336,
    "start_time": "2023-03-03T14:42:54.648Z"
   },
   {
    "duration": 361,
    "start_time": "2023-03-03T14:43:38.863Z"
   },
   {
    "duration": 419,
    "start_time": "2023-03-03T14:43:43.628Z"
   },
   {
    "duration": 1244,
    "start_time": "2023-03-03T14:46:30.013Z"
   },
   {
    "duration": 1162,
    "start_time": "2023-03-03T14:47:11.962Z"
   },
   {
    "duration": 234,
    "start_time": "2023-03-03T14:48:26.840Z"
   },
   {
    "duration": 270,
    "start_time": "2023-03-03T14:49:19.787Z"
   },
   {
    "duration": 240,
    "start_time": "2023-03-03T14:49:34.770Z"
   },
   {
    "duration": 271,
    "start_time": "2023-03-03T14:49:44.187Z"
   },
   {
    "duration": 293,
    "start_time": "2023-03-03T14:50:15.831Z"
   },
   {
    "duration": 282,
    "start_time": "2023-03-03T14:50:50.979Z"
   },
   {
    "duration": 232,
    "start_time": "2023-03-03T14:55:46.208Z"
   },
   {
    "duration": 270,
    "start_time": "2023-03-03T14:55:53.760Z"
   },
   {
    "duration": 297,
    "start_time": "2023-03-03T15:03:39.815Z"
   },
   {
    "duration": 29,
    "start_time": "2023-03-03T15:04:03.787Z"
   },
   {
    "duration": 445,
    "start_time": "2023-03-03T15:04:29.896Z"
   },
   {
    "duration": 29,
    "start_time": "2023-03-03T15:05:00.797Z"
   },
   {
    "duration": 347,
    "start_time": "2023-03-03T15:05:14.820Z"
   },
   {
    "duration": 324,
    "start_time": "2023-03-03T15:05:33.674Z"
   },
   {
    "duration": 370,
    "start_time": "2023-03-03T15:06:14.191Z"
   },
   {
    "duration": 341,
    "start_time": "2023-03-03T15:07:41.393Z"
   },
   {
    "duration": 350,
    "start_time": "2023-03-03T15:08:21.518Z"
   },
   {
    "duration": 359,
    "start_time": "2023-03-03T15:08:31.448Z"
   },
   {
    "duration": 359,
    "start_time": "2023-03-03T15:10:55.287Z"
   },
   {
    "duration": 334,
    "start_time": "2023-03-03T15:16:31.168Z"
   },
   {
    "duration": 330,
    "start_time": "2023-03-03T15:16:48.371Z"
   },
   {
    "duration": 159,
    "start_time": "2023-03-03T15:21:39.214Z"
   },
   {
    "duration": 191,
    "start_time": "2023-03-03T15:22:00.101Z"
   },
   {
    "duration": 280,
    "start_time": "2023-03-03T15:22:45.688Z"
   },
   {
    "duration": 137,
    "start_time": "2023-03-03T15:23:05.682Z"
   },
   {
    "duration": 184,
    "start_time": "2023-03-03T15:23:10.888Z"
   },
   {
    "duration": 168,
    "start_time": "2023-03-03T15:23:18.687Z"
   },
   {
    "duration": 145,
    "start_time": "2023-03-03T15:23:40.379Z"
   },
   {
    "duration": 147,
    "start_time": "2023-03-03T15:25:00.679Z"
   },
   {
    "duration": 150,
    "start_time": "2023-03-03T15:25:16.113Z"
   },
   {
    "duration": 191,
    "start_time": "2023-03-03T15:25:25.324Z"
   },
   {
    "duration": 165,
    "start_time": "2023-03-03T15:26:13.684Z"
   },
   {
    "duration": 132,
    "start_time": "2023-03-03T15:26:20.285Z"
   },
   {
    "duration": 133,
    "start_time": "2023-03-03T15:26:31.579Z"
   },
   {
    "duration": 135,
    "start_time": "2023-03-03T15:26:54.793Z"
   },
   {
    "duration": 130,
    "start_time": "2023-03-03T15:27:00.302Z"
   },
   {
    "duration": 157,
    "start_time": "2023-03-03T15:27:32.606Z"
   },
   {
    "duration": 157,
    "start_time": "2023-03-03T15:34:51.132Z"
   },
   {
    "duration": 148,
    "start_time": "2023-03-03T15:36:31.927Z"
   },
   {
    "duration": 283,
    "start_time": "2023-03-03T15:36:37.184Z"
   },
   {
    "duration": 147,
    "start_time": "2023-03-03T15:36:42.299Z"
   },
   {
    "duration": 149,
    "start_time": "2023-03-03T15:36:50.089Z"
   },
   {
    "duration": 336,
    "start_time": "2023-03-03T15:49:46.535Z"
   },
   {
    "duration": 39,
    "start_time": "2023-03-03T15:51:02.931Z"
   },
   {
    "duration": 40,
    "start_time": "2023-03-03T15:51:27.698Z"
   },
   {
    "duration": 20,
    "start_time": "2023-03-03T15:53:01.337Z"
   },
   {
    "duration": 15,
    "start_time": "2023-03-03T15:53:49.707Z"
   },
   {
    "duration": 9,
    "start_time": "2023-03-03T15:56:38.119Z"
   },
   {
    "duration": 7,
    "start_time": "2023-03-03T15:56:43.587Z"
   },
   {
    "duration": 31,
    "start_time": "2023-03-03T15:56:47.207Z"
   },
   {
    "duration": 18,
    "start_time": "2023-03-03T15:59:02.575Z"
   },
   {
    "duration": 19,
    "start_time": "2023-03-03T16:00:10.496Z"
   },
   {
    "duration": 8,
    "start_time": "2023-03-03T16:03:51.588Z"
   },
   {
    "duration": 28,
    "start_time": "2023-03-03T16:03:57.204Z"
   },
   {
    "duration": 21,
    "start_time": "2023-03-03T16:04:01.804Z"
   },
   {
    "duration": 88,
    "start_time": "2023-03-03T16:09:48.290Z"
   },
   {
    "duration": 5,
    "start_time": "2023-03-03T16:09:54.387Z"
   },
   {
    "duration": 6,
    "start_time": "2023-03-03T16:11:56.386Z"
   },
   {
    "duration": 12,
    "start_time": "2023-03-03T16:12:24.320Z"
   },
   {
    "duration": 7,
    "start_time": "2023-03-03T16:13:20.015Z"
   },
   {
    "duration": 8,
    "start_time": "2023-03-03T16:14:17.543Z"
   },
   {
    "duration": 3,
    "start_time": "2023-03-03T16:35:17.796Z"
   },
   {
    "duration": 44,
    "start_time": "2023-03-03T16:35:17.802Z"
   },
   {
    "duration": 12,
    "start_time": "2023-03-03T16:35:17.848Z"
   },
   {
    "duration": 14,
    "start_time": "2023-03-03T16:35:17.862Z"
   },
   {
    "duration": 125,
    "start_time": "2023-03-03T16:35:17.879Z"
   },
   {
    "duration": 360,
    "start_time": "2023-03-03T16:35:18.005Z"
   },
   {
    "duration": 225,
    "start_time": "2023-03-03T16:35:18.367Z"
   },
   {
    "duration": 325,
    "start_time": "2023-03-03T16:35:18.594Z"
   },
   {
    "duration": 347,
    "start_time": "2023-03-03T16:35:18.921Z"
   },
   {
    "duration": 328,
    "start_time": "2023-03-03T16:35:19.270Z"
   },
   {
    "duration": 137,
    "start_time": "2023-03-03T16:35:19.600Z"
   },
   {
    "duration": 6,
    "start_time": "2023-03-03T16:35:19.738Z"
   },
   {
    "duration": 145,
    "start_time": "2023-03-03T16:35:19.754Z"
   },
   {
    "duration": 5,
    "start_time": "2023-03-03T16:35:19.902Z"
   },
   {
    "duration": 50,
    "start_time": "2023-03-03T16:35:19.908Z"
   },
   {
    "duration": 14,
    "start_time": "2023-03-03T16:35:19.959Z"
   },
   {
    "duration": 9,
    "start_time": "2023-03-03T16:35:19.975Z"
   },
   {
    "duration": 18,
    "start_time": "2023-03-03T16:35:19.985Z"
   },
   {
    "duration": 61,
    "start_time": "2023-03-03T16:35:20.005Z"
   },
   {
    "duration": 20,
    "start_time": "2023-03-03T16:35:20.067Z"
   },
   {
    "duration": 3,
    "start_time": "2023-03-03T16:37:33.726Z"
   },
   {
    "duration": 42,
    "start_time": "2023-03-03T16:37:33.732Z"
   },
   {
    "duration": 11,
    "start_time": "2023-03-03T16:37:33.775Z"
   },
   {
    "duration": 13,
    "start_time": "2023-03-03T16:37:33.788Z"
   },
   {
    "duration": 130,
    "start_time": "2023-03-03T16:37:33.802Z"
   },
   {
    "duration": 419,
    "start_time": "2023-03-03T16:37:33.934Z"
   },
   {
    "duration": 213,
    "start_time": "2023-03-03T16:37:34.355Z"
   },
   {
    "duration": 430,
    "start_time": "2023-03-03T16:37:34.569Z"
   },
   {
    "duration": 349,
    "start_time": "2023-03-03T16:37:35.001Z"
   },
   {
    "duration": 354,
    "start_time": "2023-03-03T16:37:35.352Z"
   },
   {
    "duration": 152,
    "start_time": "2023-03-03T16:37:35.708Z"
   },
   {
    "duration": 6,
    "start_time": "2023-03-03T16:37:35.861Z"
   },
   {
    "duration": 155,
    "start_time": "2023-03-03T16:37:35.868Z"
   },
   {
    "duration": 5,
    "start_time": "2023-03-03T16:37:36.025Z"
   },
   {
    "duration": 55,
    "start_time": "2023-03-03T16:37:36.031Z"
   },
   {
    "duration": 15,
    "start_time": "2023-03-03T16:37:36.087Z"
   },
   {
    "duration": 9,
    "start_time": "2023-03-03T16:37:36.103Z"
   },
   {
    "duration": 9,
    "start_time": "2023-03-03T16:37:36.113Z"
   },
   {
    "duration": 31,
    "start_time": "2023-03-03T16:37:36.154Z"
   },
   {
    "duration": 20,
    "start_time": "2023-03-03T16:37:36.187Z"
   },
   {
    "duration": 1112,
    "start_time": "2023-03-04T16:57:29.638Z"
   },
   {
    "duration": 44,
    "start_time": "2023-03-04T16:57:30.752Z"
   },
   {
    "duration": 10,
    "start_time": "2023-03-04T16:57:30.798Z"
   },
   {
    "duration": 18,
    "start_time": "2023-03-04T16:57:30.809Z"
   },
   {
    "duration": 127,
    "start_time": "2023-03-04T16:57:30.829Z"
   },
   {
    "duration": 357,
    "start_time": "2023-03-04T16:57:30.958Z"
   },
   {
    "duration": 200,
    "start_time": "2023-03-04T16:57:31.317Z"
   },
   {
    "duration": 303,
    "start_time": "2023-03-04T16:57:31.518Z"
   },
   {
    "duration": 326,
    "start_time": "2023-03-04T16:57:31.822Z"
   },
   {
    "duration": 298,
    "start_time": "2023-03-04T16:57:32.149Z"
   },
   {
    "duration": 121,
    "start_time": "2023-03-04T16:57:32.449Z"
   },
   {
    "duration": 5,
    "start_time": "2023-03-04T16:57:32.572Z"
   },
   {
    "duration": 159,
    "start_time": "2023-03-04T16:57:32.579Z"
   },
   {
    "duration": 5,
    "start_time": "2023-03-04T16:57:32.741Z"
   },
   {
    "duration": 51,
    "start_time": "2023-03-04T16:57:32.748Z"
   },
   {
    "duration": 13,
    "start_time": "2023-03-04T16:57:32.801Z"
   },
   {
    "duration": 8,
    "start_time": "2023-03-04T16:57:32.816Z"
   },
   {
    "duration": 14,
    "start_time": "2023-03-04T16:57:32.826Z"
   },
   {
    "duration": 60,
    "start_time": "2023-03-04T16:57:32.841Z"
   },
   {
    "duration": 17,
    "start_time": "2023-03-04T16:57:32.902Z"
   },
   {
    "duration": 379,
    "start_time": "2023-03-04T17:00:28.575Z"
   },
   {
    "duration": 1115,
    "start_time": "2023-03-04T17:03:47.428Z"
   },
   {
    "duration": 44,
    "start_time": "2023-03-04T17:03:48.544Z"
   },
   {
    "duration": 14,
    "start_time": "2023-03-04T17:03:48.589Z"
   },
   {
    "duration": 21,
    "start_time": "2023-03-04T17:03:48.605Z"
   },
   {
    "duration": 127,
    "start_time": "2023-03-04T17:03:48.628Z"
   },
   {
    "duration": 417,
    "start_time": "2023-03-04T17:03:48.756Z"
   },
   {
    "duration": 247,
    "start_time": "2023-03-04T17:03:49.175Z"
   },
   {
    "duration": 340,
    "start_time": "2023-03-04T17:03:49.425Z"
   },
   {
    "duration": 361,
    "start_time": "2023-03-04T17:03:49.766Z"
   },
   {
    "duration": 333,
    "start_time": "2023-03-04T17:03:50.131Z"
   },
   {
    "duration": 155,
    "start_time": "2023-03-04T17:03:50.465Z"
   },
   {
    "duration": 6,
    "start_time": "2023-03-04T17:03:50.622Z"
   },
   {
    "duration": 160,
    "start_time": "2023-03-04T17:03:50.629Z"
   },
   {
    "duration": 7,
    "start_time": "2023-03-04T17:03:50.792Z"
   },
   {
    "duration": 58,
    "start_time": "2023-03-04T17:03:50.801Z"
   },
   {
    "duration": 12,
    "start_time": "2023-03-04T17:03:50.861Z"
   },
   {
    "duration": 25,
    "start_time": "2023-03-04T17:03:50.875Z"
   },
   {
    "duration": 23,
    "start_time": "2023-03-04T17:03:50.902Z"
   },
   {
    "duration": 29,
    "start_time": "2023-03-04T17:03:50.927Z"
   },
   {
    "duration": 40,
    "start_time": "2023-03-04T17:03:50.957Z"
   },
   {
    "duration": 52,
    "start_time": "2023-03-06T09:17:53.393Z"
   },
   {
    "duration": 1120,
    "start_time": "2023-03-06T09:17:59.386Z"
   },
   {
    "duration": 100,
    "start_time": "2023-03-06T09:18:00.508Z"
   },
   {
    "duration": 17,
    "start_time": "2023-03-06T09:18:00.610Z"
   },
   {
    "duration": 32,
    "start_time": "2023-03-06T09:18:00.629Z"
   },
   {
    "duration": 225,
    "start_time": "2023-03-06T09:18:02.173Z"
   },
   {
    "duration": 150,
    "start_time": "2023-03-06T09:18:20.376Z"
   }
  ],
  "kernelspec": {
   "display_name": "Python 3 (ipykernel)",
   "language": "python",
   "name": "python3"
  },
  "language_info": {
   "codemirror_mode": {
    "name": "ipython",
    "version": 3
   },
   "file_extension": ".py",
   "mimetype": "text/x-python",
   "name": "python",
   "nbconvert_exporter": "python",
   "pygments_lexer": "ipython3",
   "version": "3.9.13"
  },
  "toc": {
   "base_numbering": 1,
   "nav_menu": {},
   "number_sections": true,
   "sideBar": true,
   "skip_h1_title": true,
   "title_cell": "Table of Contents",
   "title_sidebar": "Contents",
   "toc_cell": false,
   "toc_position": {
    "height": "calc(100% - 180px)",
    "left": "10px",
    "top": "150px",
    "width": "292.594px"
   },
   "toc_section_display": true,
   "toc_window_display": true
  }
 },
 "nbformat": 4,
 "nbformat_minor": 2
}
